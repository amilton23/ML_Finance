{
 "cells": [
  {
   "cell_type": "markdown",
   "id": "efae8188-3991-4237-87b4-3db9f4908f93",
   "metadata": {},
   "source": [
    "# Project Real-time Finance"
   ]
  },
  {
   "cell_type": "markdown",
   "id": "f401e357-f617-427a-a81c-463ba56b38e7",
   "metadata": {},
   "source": [
    "_(ENG)_\n",
    "**Objective:** To analyze stocks data from IBOVESPA and create a time series model that could predict in short or mid-term the stocks' price based on historical data, such as:\n",
    "\n",
    "1. Stocks' history.\n",
    "2. Quarterly results (Q4).\n",
    "3. News.\n",
    "\n",
    "_(PT-BR)_\n",
    "**Objetivo:** Analisar os dados de ativos da IBOVESPA e criar um modelo de times series que possa prever a curto ou médio prazo o preço das ações com base em dados históricos da empresa, tais como:\n",
    "\n",
    "1. Valores dos ativos historicamente.\n",
    "2. Resultados trimestrais (TRI).\n",
    "3. Notícias."
   ]
  },
  {
   "cell_type": "markdown",
   "id": "1ce35f38-7cd1-4ebc-8c16-7ef21fc09d94",
   "metadata": {},
   "source": [
    "## 1.1. Imports"
   ]
  },
  {
   "cell_type": "code",
   "execution_count": 1,
   "id": "9b33136d-5ff7-40c9-a212-16fbaa519bf2",
   "metadata": {},
   "outputs": [],
   "source": [
    "# Data Wrangling\n",
    "import pandas as pd\n",
    "import numpy as np\n",
    "import os\n",
    "import time\n",
    "\n",
    "# datasets of finance\n",
    "import yfinance as yf\n",
    "\n",
    "# webscrapping and manipulating endpoints\n",
    "import requests\n",
    "from bs4 import BeautifulSoup as BS\n",
    "\n",
    "# Data visualization\n",
    "import dash\n",
    "from matplotlib import pyplot as plt\n",
    "import seaborn"
   ]
  },
  {
   "cell_type": "markdown",
   "id": "18898885-3344-4c46-b6e6-28e14418f925",
   "metadata": {},
   "source": [
    "## 1.2. Loading and scraping Datasets"
   ]
  },
  {
   "cell_type": "markdown",
   "id": "41ba137b-31ab-4d36-a92a-6ad7092e2b68",
   "metadata": {},
   "source": [
    "### 1.2.1. Loading IPCA (consumption interest rate)"
   ]
  },
  {
   "cell_type": "code",
   "execution_count": 2,
   "id": "20ae4a33-fca6-41a6-a3d8-5ed00cb1eeef",
   "metadata": {
    "scrolled": true,
    "tags": []
   },
   "outputs": [
    {
     "data": {
      "text/plain": [
       "'ï»¿\"Tabela 1737 - IPCA - SÃ©rie histÃ³rica com nÃºmero-Ã\\xadndice, variaÃ§Ã£o mensal e variaÃ§Ãµes acumuladas em 3 meses, em 6 meses, no ano e em 12 meses (a partir de dezembro/1979)\"\\r\\n\"VariÃ¡vel - IPCA - NÃºmero-Ã\\xadndice (base: dezembro de 1993 = 100)\"\\r\\n\"NÃ\\xadvel\";\"CÃ³d.\";\"\";\"MÃªs\"\\r\\n\"NÃ\\xadvel\";\"CÃ³d.\";\"\";\"dezembro 1979\";;\"janeiro 1980\";;\"fevereiro 1980\";;\"marÃ§o 1980\";;\"abril 1980\";;\"maio 1980\";;\"junho 1980\";;\"julho 1980\";;\"agosto 1980\";;\"setembro 1980\";;\"outubro 1980\";;\"novembro 1980\";;\"dezembro 1980\";;\"janeiro 1981\";;\"fevereiro 1981\";;\"marÃ§o 1981\";;\"abril 1981\";;\"maio 1981\";;\"junho 1981\";;\"julho 1981\";;\"agosto 1981\";;\"setembro 1981\";;\"outubro 1981\";;\"novembro 1981\";;\"dezembro 1981\";;\"janeiro 1982\";;\"fevereiro 1982\";;\"marÃ§o 1982\";;\"abril 1982\";;\"maio 1982\";;\"junho 1982\";;\"julho 1982\";;\"agosto 1982\";;\"setembro 1982\";;\"outubro 1982\";;\"novembro 1982\";;\"dezembro 1982\";;\"janeiro 1983\";;\"fevereiro 1983\";;\"marÃ§o 1983\";;\"abril 1983\";;\"maio 1983\";;\"junho 1983\";;\"julho 1983\";;\"agosto 1983\";;\"setembro 1983\";;\"outubro 1983\";;\"novembro 1983\";;\"dezembro 1983\";;\"janeiro 1984\";;\"fevereiro 1984\";;\"marÃ§o 1984\";;\"abril 1984\";;\"maio 1984\";;\"junho 1984\";;\"julho 1984\";;\"agosto 1984\";;\"setembro 1984\";;\"outubro 1984\";;\"novembro 1984\";;\"dezembro 1984\";;\"janeiro 1985\";;\"fevereiro 1985\";;\"marÃ§o 1985\";;\"abril 1985\";;\"maio 1985\";;\"junho 1985\";;\"julho 1985\";;\"agosto 1985\";;\"setembro 1985\";;\"outubro 1985\";;\"novembro 1985\";;\"dezembro 1985\";;\"janeiro 1986\";;\"fevereiro 1986\";;\"marÃ§o 1986\";;\"abril 1986\";;\"maio 1986\";;\"junho 1986\";;\"julho 1986\";;\"agosto 1986\";;\"setembro 1986\";;\"outubro 1986\";;\"novembro 1986\";;\"dezembro 1986\";;\"janeiro 1987\";;\"fevereiro 1987\";;\"marÃ§o 1987\";;\"abril 1987\";;\"maio 1987\";;\"junho 1987\";;\"julho 1987\";;\"agosto 1987\";;\"setembro 1987\";;\"outubro 1987\";;\"novembro 1987\";;\"dezembro 1987\";;\"janeiro 1988\";;\"fevereiro 1988\";;\"marÃ§o 1988\";;\"abril 1988\";;\"maio 1988\";;\"junho 1988\";;\"julho 1988\";;\"agosto 1988\";;\"setembro 1988\";;\"outubro 1988\";;\"novembro 1988\";;\"dezembro 1988\";;\"janeiro 1989\";;\"fevereiro 1989\";;\"marÃ§o 1989\";;\"abril 1989\";;\"maio 1989\";;\"junho 1989\";;\"julho 1989\";;\"agosto 1989\";;\"setembro 1989\";;\"outubro 1989\";;\"novembro 1989\";;\"dezembro 1989\";;\"janeiro 1990\";;\"fevereiro 1990\";;\"marÃ§o 1990\";;\"abril 1990\";;\"maio 1990\";;\"junho 1990\";;\"julho 1990\";;\"agosto 1990\";;\"setembro 1990\";;\"outubro 1990\";;\"novembro 1990\";;\"dezembro 1990\";;\"janeiro 1991\";;\"fevereiro 1991\";;\"marÃ§o 1991\";;\"abril 1991\";;\"maio 1991\";;\"junho 1991\";;\"julho 1991\";;\"agosto 1991\";;\"setembro 1991\";;\"outubro 1991\";;\"novembro 1991\";;\"dezembro 1991\";;\"janeiro 1992\";;\"fevereiro 1992\";;\"marÃ§o 1992\";;\"abril 1992\";;\"maio 1992\";;\"junho 1992\";;\"julho 1992\";;\"agosto 1992\";;\"setembro 1992\";;\"outubro 1992\";;\"novembro 1992\";;\"dezembro 1992\";;\"janeiro 1993\";;\"fevereiro 1993\";;\"marÃ§o 1993\";;\"abril 1993\";;\"maio 1993\";;\"junho 1993\";;\"julho 1993\";;\"agosto 1993\";;\"setembro 1993\";;\"outubro 1993\";;\"novembro 1993\";;\"dezembro 1993\";;\"janeiro 1994\";;\"fevereiro 1994\";;\"marÃ§o 1994\";;\"abril 1994\";;\"maio 1994\";;\"junho 1994\";;\"julho 1994\";;\"agosto 1994\";;\"setembro 1994\";;\"outubro 1994\";;\"novembro 1994\";;\"dezembro 1994\";;\"janeiro 1995\";;\"fevereiro 1995\";;\"marÃ§o 1995\";;\"abril 1995\";;\"maio 1995\";;\"junho 1995\";;\"julho 1995\";;\"agosto 1995\";;\"setembro 1995\";;\"outubro 1995\";;\"novembro 1995\";;\"dezembro 1995\";;\"janeiro 1996\";;\"fevereiro 1996\";;\"marÃ§o 1996\";;\"abril 1996\";;\"maio 1996\";;\"junho 1996\";;\"julho 1996\";;\"agosto 1996\";;\"setembro 1996\";;\"outubro 1996\";;\"novembro 1996\";;\"dezembro 1996\";;\"janeiro 1997\";;\"fevereiro 1997\";;\"marÃ§o 1997\";;\"abril 1997\";;\"maio 1997\";;\"junho 1997\";;\"julho 1997\";;\"agosto 1997\";;\"setembro 1997\";;\"outubro 1997\";;\"novembro 1997\";;\"dezembro 1997\";;\"janeiro 1998\";;\"fevereiro 1998\";;\"marÃ§o 1998\";;\"abril 1998\";;\"maio 1998\";;\"junho 1998\";;\"julho 1998\";;\"agosto 1998\";;\"setembro 1998\";;\"outubro 1998\";;\"novembro 1998\";;\"dezembro 1998\";;\"janeiro 1999\";;\"fevereiro 1999\";;\"marÃ§o 1999\";;\"abril 1999\";;\"maio 1999\";;\"junho 1999\";;\"julho 1999\";;\"agosto 1999\";;\"setembro 1999\";;\"outubro 1999\";;\"novembro 1999\";;\"dezembro 1999\";;\"janeiro 2000\";;\"fevereiro 2000\";;\"marÃ§o 2000\";;\"abril 2000\";;\"maio 2000\";;\"junho 2000\";;\"julho 2000\";;\"agosto 2000\";;\"setembro 2000\";;\"outubro 2000\";;\"novembro 2000\";;\"dezembro 2000\";;\"janeiro 2001\";;\"fevereiro 2001\";;\"marÃ§o 2001\";;\"abril 2001\";;\"maio 2001\";;\"junho 2001\";;\"julho 2001\";;\"agosto 2001\";;\"setembro 2001\";;\"outubro 2001\";;\"novembro 2001\";;\"dezembro 2001\";;\"janeiro 2002\";;\"fevereiro 2002\";;\"marÃ§o 2002\";;\"abril 2002\";;\"maio 2002\";;\"junho 2002\";;\"julho 2002\";;\"agosto 2002\";;\"setembro 2002\";;\"outubro 2002\";;\"novembro 2002\";;\"dezembro 2002\";;\"janeiro 2003\";;\"fevereiro 2003\";;\"marÃ§o 2003\";;\"abril 2003\";;\"maio 2003\";;\"junho 2003\";;\"julho 2003\";;\"agosto 2003\";;\"setembro 2003\";;\"outubro 2003\";;\"novembro 2003\";;\"dezembro 2003\";;\"janeiro 2004\";;\"fevereiro 2004\";;\"marÃ§o 2004\";;\"abril 2004\";;\"maio 2004\";;\"junho 2004\";;\"julho 2004\";;\"agosto 2004\";;\"setembro 2004\";;\"outubro 2004\";;\"novembro 2004\";;\"dezembro 2004\";;\"janeiro 2005\";;\"fevereiro 2005\";;\"marÃ§o 2005\";;\"abril 2005\";;\"maio 2005\";;\"junho 2005\";;\"julho 2005\";;\"agosto 2005\";;\"setembro 2005\";;\"outubro 2005\";;\"novembro 2005\";;\"dezembro 2005\";;\"janeiro 2006\";;\"fevereiro 2006\";;\"marÃ§o 2006\";;\"abril 2006\";;\"maio 2006\";;\"junho 2006\";;\"julho 2006\";;\"agosto 2006\";;\"setembro 2006\";;\"outubro 2006\";;\"novembro 2006\";;\"dezembro 2006\";;\"janeiro 2007\";;\"fevereiro 2007\";;\"marÃ§o 2007\";;\"abril 2007\";;\"maio 2007\";;\"junho 2007\";;\"julho 2007\";;\"agosto 2007\";;\"setembro 2007\";;\"outubro 2007\";;\"novembro 2007\";;\"dezembro 2007\";;\"janeiro 2008\";;\"fevereiro 2008\";;\"marÃ§o 2008\";;\"abril 2008\";;\"maio 2008\";;\"junho 2008\";;\"julho 2008\";;\"agosto 2008\";;\"setembro 2008\";;\"outubro 2008\";;\"novembro 2008\";;\"dezembro 2008\";;\"janeiro 2009\";;\"fevereiro 2009\";;\"marÃ§o 2009\";;\"abril 2009\";;\"maio 2009\";;\"junho 2009\";;\"julho 2009\";;\"agosto 2009\";;\"setembro 2009\";;\"outubro 2009\";;\"novembro 2009\";;\"dezembro 2009\";;\"janeiro 2010\";;\"fevereiro 2010\";;\"marÃ§o 2010\";;\"abril 2010\";;\"maio 2010\";;\"junho 2010\";;\"julho 2010\";;\"agosto 2010\";;\"setembro 2010\";;\"outubro 2010\";;\"novembro 2010\";;\"dezembro 2010\";;\"janeiro 2011\";;\"fevereiro 2011\";;\"marÃ§o 2011\";;\"abril 2011\";;\"maio 2011\";;\"junho 2011\";;\"julho 2011\";;\"agosto 2011\";;\"setembro 2011\";;\"outubro 2011\";;\"novembro 2011\";;\"dezembro 2011\";;\"janeiro 2012\";;\"fevereiro 2012\";;\"marÃ§o 2012\";;\"abril 2012\";;\"maio 2012\";;\"junho 2012\";;\"julho 2012\";;\"agosto 2012\";;\"setembro 2012\";;\"outubro 2012\";;\"novembro 2012\";;\"dezembro 2012\";;\"janeiro 2013\";;\"fevereiro 2013\";;\"marÃ§o 2013\";;\"abril 2013\";;\"maio 2013\";;\"junho 2013\";;\"julho 2013\";;\"agosto 2013\";;\"setembro 2013\";;\"outubro 2013\";;\"novembro 2013\";;\"dezembro 2013\";;\"janeiro 2014\";;\"fevereiro 2014\";;\"marÃ§o 2014\";;\"abril 2014\";;\"maio 2014\";;\"junho 2014\";;\"julho 2014\";;\"agosto 2014\";;\"setembro 2014\";;\"outubro 2014\";;\"novembro 2014\";;\"dezembro 2014\";;\"janeiro 2015\";;\"fevereiro 2015\";;\"marÃ§o 2015\";;\"abril 2015\";;\"maio 2015\";;\"junho 2015\";;\"julho 2015\";;\"agosto 2015\";;\"setembro 2015\";;\"outubro 2015\";;\"novembro 2015\";;\"dezembro 2015\";;\"janeiro 2016\";;\"fevereiro 2016\";;\"marÃ§o 2016\";;\"abril 2016\";;\"maio 2016\";;\"junho 2016\";;\"julho 2016\";;\"agosto 2016\";;\"setembro 2016\";;\"outubro 2016\";;\"novembro 2016\";;\"dezembro 2016\";;\"janeiro 2017\";;\"fevereiro 2017\";;\"marÃ§o 2017\";;\"abril 2017\";;\"maio 2017\";;\"junho 2017\";;\"julho 2017\";;\"agosto 2017\";;\"setembro 2017\";;\"outubro 2017\";;\"novembro 2017\";;\"dezembro 2017\";;\"janeiro 2018\";;\"fevereiro 2018\";;\"marÃ§o 2018\";;\"abril 2018\";;\"maio 2018\";;\"junho 2018\";;\"julho 2018\";;\"agosto 2018\";;\"setembro 2018\";;\"outubro 2018\";;\"novembro 2018\";;\"dezembro 2018\";;\"janeiro 2019\";;\"fevereiro 2019\";;\"marÃ§o 2019\";;\"abril 2019\";;\"maio 2019\";;\"junho 2019\";;\"julho 2019\";;\"agosto 2019\";;\"setembro 2019\";;\"outubro 2019\";;\"novembro 2019\";;\"dezembro 2019\";;\"janeiro 2020\";;\"fevereiro 2020\";;\"marÃ§o 2020\";;\"abril 2020\";;\"maio 2020\";;\"junho 2020\";;\"julho 2020\";;\"agosto 2020\";;\"setembro 2020\";;\"outubro 2020\";;\"novembro 2020\";;\"dezembro 2020\";;\"janeiro 2021\";;\"fevereiro 2021\";;\"marÃ§o 2021\";;\"abril 2021\";;\"maio 2021\";;\"junho 2021\";;\"julho 2021\";;\"agosto 2021\";;\"setembro 2021\";;\"outubro 2021\";;\"novembro 2021\";;\"dezembro 2021\";;\"janeiro 2022\";;\"fevereiro 2022\";;\"marÃ§o 2022\";;\"abril 2022\";;\"maio 2022\";;\"junho 2022\";;\"julho 2022\";;\"agosto 2022\";;\"setembro 2022\";;\"outubro 2022\";;\"novembro 2022\";;\"dezembro 2022\";;\"janeiro 2023\";;\"fevereiro 2023\";;\"marÃ§o 2023\"\\r\\n\"BR\";\"1\";\"Brasil\";\"0,0000000076183\";\"NÃºmero-Ã\\xadndice\";\"0,0000000081223\";\"NÃºmero-Ã\\xadndice\";\"0,0000000084973\";\"NÃºmero-Ã\\xadndice\";\"0,0000000090104\";\"NÃºmero-Ã\\xadndice\";\"0,0000000094867\";\"NÃºmero-Ã\\xadndice\";\"0,0000000100277\";\"NÃºmero-Ã\\xadndice\";\"0,0000000105597\";\"NÃºmero-Ã\\xadndice\";\"0,0000000111453\";\"NÃºmero-Ã\\xadndice\";\"0,0000000116965\";\"NÃºmero-Ã\\xadndice\";\"0,0000000121913\";\"NÃºmero-Ã\\xadndice\";\"0,0000000133471\";\"NÃºmero-Ã\\xadndice\";\"0,0000000142378\";\"NÃºmero-Ã\\xadndice\";\"0,0000000151795\";\"NÃºmero-Ã\\xadndice\";\"0,0000000162174\";\"NÃºmero-Ã\\xadndice\";\"0,0000000172555\";\"NÃºmero-Ã\\xadndice\";\"0,0000000181134\";\"NÃºmero-Ã\\xadndice\";\"0,0000000192839\";\"NÃºmero-Ã\\xadndice\";\"0,0000000203560\";\"NÃºmero-Ã\\xadndice\";\"0,0000000214792\";\"NÃºmero-Ã\\xadndice\";\"0,0000000228229\";\"NÃºmero-Ã\\xadndice\";\"0,0000000240772\";\"NÃºmero-Ã\\xadndice\";\"0,0000000253429\";\"NÃºmero-Ã\\xadndice\";\"0,0000000266297\";\"NÃºmero-Ã\\xadndice\";\"0,0000000280335\";\"NÃºmero-Ã\\xadndice\";\"0,0000000296946\";\"NÃºmero-Ã\\xadndice\";\"0,0000000317628\";\"NÃºmero-Ã\\xadndice\";\"0,0000000338708\";\"NÃºmero-Ã\\xadndice\";\"0,0000000358057\";\"NÃºmero-Ã\\xadndice\";\"0,0000000379137\";\"NÃºmero-Ã\\xadndice\";\"0,0000000404382\";\"NÃºmero-Ã\\xadndice\";\"0,0000000433113\";\"NÃºmero-Ã\\xadndice\";\"0,0000000460650\";\"NÃºmero-Ã\\xadndice\";\"0,0000000488164\";\"NÃºmero-Ã\\xadndice\";\"0,0000000512964\";\"NÃºmero-Ã\\xadndice\";\"0,0000000535752\";\"NÃºmero-Ã\\xadndice\";\"0,0000000564085\";\"NÃºmero-Ã\\xadndice\";\"0,0000000608117\";\"NÃºmero-Ã\\xadndice\";\"0,0000000660665\";\"NÃºmero-Ã\\xadndice\";\"0,0000000712581\";\"NÃºmero-Ã\\xadndice\";\"0,0000000764919\";\"NÃºmero-Ã\\xadndice\";\"0,0000000815245\";\"NÃºmero-Ã\\xadndice\";\"0,0000000868097\";\"NÃºmero-Ã\\xadndice\";\"0,0000000953868\";\"NÃºmero-Ã\\xadndice\";\"0,0000001050003\";\"NÃºmero-Ã\\xadndice\";\"0,0000001145671\";\"NÃºmero-Ã\\xadndice\";\"0,0000001263682\";\"NÃºmero-Ã\\xadndice\";\"0,0000001375727\";\"NÃºmero-Ã\\xadndice\";\"0,0000001477314\";\"NÃºmero-Ã\\xadndice\";\"0,0000001605502\";\"NÃºmero-Ã\\xadndice\";\"0,0000001760737\";\"NÃºmero-Ã\\xadndice\";\"0,0000001928020\";\"NÃºmero-Ã\\xadndice\";\"0,0000002100357\";\"NÃºmero-Ã\\xadndice\";\"0,0000002300794\";\"NÃºmero-Ã\\xadndice\";\"0,0000002509021\";\"NÃºmero-Ã\\xadndice\";\"0,0000002761935\";\"NÃºmero-Ã\\xadndice\";\"0,0000003030524\";\"NÃºmero-Ã\\xadndice\";\"0,0000003313854\";\"NÃºmero-Ã\\xadndice\";\"0,0000003703168\";\"NÃºmero-Ã\\xadndice\";\"0,0000004089675\";\"NÃºmero-Ã\\xadndice\";\"0,0000004520168\";\"NÃºmero-Ã\\xadndice\";\"0,0000005061559\";\"NÃºmero-Ã\\xadndice\";\"0,0000005656761\";\"NÃºmero-Ã\\xadndice\";\"0,0000006271382\";\"NÃºmero-Ã\\xadndice\";\"0,0000006908698\";\"NÃºmero-Ã\\xadndice\";\"0,0000007474889\";\"NÃºmero-Ã\\xadndice\";\"0,0000008012770\";\"NÃºmero-Ã\\xadndice\";\"0,0000008693369\";\"NÃºmero-Ã\\xadndice\";\"0,0000009589916\";\"NÃºmero-Ã\\xadndice\";\"0,0000010745459\";\"NÃºmero-Ã\\xadndice\";\"0,0000011940075\";\"NÃºmero-Ã\\xadndice\";\"0,0000013207687\";\"NÃºmero-Ã\\xadndice\";\"0,0000015053189\";\"NÃºmero-Ã\\xadndice\";\"0,0000017322163\";\"NÃºmero-Ã\\xadndice\";\"0,0000019811765\";\"NÃºmero-Ã\\xadndice\";\"0,0000022331080\";\"NÃºmero-Ã\\xadndice\";\"0,0000023396314\";\"NÃºmero-Ã\\xadndice\";\"0,0000023578806\";\"NÃºmero-Ã\\xadndice\";\"0,0000023908694\";\"NÃºmero-Ã\\xadndice\";\"0,0000024212846\";\"NÃºmero-Ã\\xadndice\";\"0,0000024626960\";\"NÃºmero-Ã\\xadndice\";\"0,0000025501983\";\"NÃºmero-Ã\\xadndice\";\"0,0000025939494\";\"NÃºmero-Ã\\xadndice\";\"0,0000026433156\";\"NÃºmero-Ã\\xadndice\";\"0,0000027874369\";\"NÃºmero-Ã\\xadndice\";\"0,0000031121777\";\"NÃºmero-Ã\\xadndice\";\"0,0000035232510\";\"NÃºmero-Ã\\xadndice\";\"0,0000039684829\";\"NÃºmero-Ã\\xadndice\";\"0,0000046181985\";\"NÃºmero-Ã\\xadndice\";\"0,0000055002395\";\"NÃºmero-Ã\\xadndice\";\"0,0000066801157\";\"NÃºmero-Ã\\xadndice\";\"0,0000079968603\";\"NÃºmero-Ã\\xadndice\";\"0,0000087333762\";\"NÃºmero-Ã\\xadndice\";\"0,0000091587212\";\"NÃºmero-Ã\\xadndice\";\"0,0000098713730\";\"NÃºmero-Ã\\xadndice\";\"0,0000109789545\";\"NÃºmero-Ã\\xadndice\";\"0,0000126344777\";\"NÃºmero-Ã\\xadndice\";\"0,0000144221901\";\"NÃºmero-Ã\\xadndice\";\"0,0000171464570\";\"NÃºmero-Ã\\xadndice\";\"0,0000198384369\";\"NÃºmero-Ã\\xadndice\";\"0,0000233301029\";\"NÃºmero-Ã\\xadndice\";\"0,0000278303890\";\"NÃºmero-Ã\\xadndice\";\"0,0000326783343\";\"NÃºmero-Ã\\xadndice\";\"0,0000398675537\";\"NÃºmero-Ã\\xadndice\";\"0,0000486025677\";\"NÃºmero-Ã\\xadndice\";\"0,0000590958147\";\"NÃºmero-Ã\\xadndice\";\"0,0000753176493\";\"NÃºmero-Ã\\xadndice\";\"0,0000946139936\";\"NÃºmero-Ã\\xadndice\";\"0,0001210492553\";\"NÃºmero-Ã\\xadndice\";\"0,0001557904426\";\"NÃºmero-Ã\\xadndice\";\"0,0002141963000\";\"NÃºmero-Ã\\xadndice\";\"0,0002501384201\";\"NÃºmero-Ã\\xadndice\";\"0,0002671978428\";\"NÃºmero-Ã\\xadndice\";\"0,0002894554586\";\"NÃºmero-Ã\\xadndice\";\"0,0003413257896\";\"NÃºmero-Ã\\xadndice\";\"0,0004391155989\";\"NÃºmero-Ã\\xadndice\";\"0,0005609261703\";\"NÃºmero-Ã\\xadndice\";\"0,0007500144816\";\"NÃºmero-Ã\\xadndice\";\"0,0010317199110\";\"NÃºmero-Ã\\xadndice\";\"0,0014420348808\";\"NÃºmero-Ã\\xadndice\";\"0,0021316159803\";\"NÃºmero-Ã\\xadndice\";\"0,0032293981927\";\"NÃºmero-Ã\\xadndice\";\"0,0054108567454\";\"NÃºmero-Ã\\xadndice\";\"0,0095084984833\";\"NÃºmero-Ã\\xadndice\";\"0,0173425503510\";\"NÃºmero-Ã\\xadndice\";\"0,0200341140678\";\"NÃºmero-Ã\\xadndice\";\"0,0215547032441\";\"NÃºmero-Ã\\xadndice\";\"0,0240873809519\";\"NÃºmero-Ã\\xadndice\";\"0,0271994704920\";\"NÃºmero-Ã\\xadndice\";\"0,0307027623187\";\"NÃºmero-Ã\\xadndice\";\"0,0351270304097\";\"NÃºmero-Ã\\xadndice\";\"0,0401712720553\";\"NÃºmero-Ã\\xadndice\";\"0,0469240627842\";\"NÃºmero-Ã\\xadndice\";\"0,0555768600186\";\"NÃºmero-Ã\\xadndice\";\"0,0671090584724\";\"NÃºmero-Ã\\xadndice\";\"0,0810143888491\";\"NÃºmero-Ã\\xadndice\";\"0,0906736471203\";\"NÃºmero-Ã\\xadndice\";\"0,0951976035258\";\"NÃºmero-Ã\\xadndice\";\"0,1022725378062\";\"NÃºmero-Ã\\xadndice\";\"0,1137158132840\";\"NÃºmero-Ã\\xadndice\";\"0,1278267780427\";\"NÃºmero-Ã\\xadndice\";\"0,1478066592194\";\"NÃºmero-Ã\\xadndice\";\"0,1709099599291\";\"NÃºmero-Ã\\xadndice\";\"0,2054843245466\";\"NÃºmero-Ã\\xadndice\";\"0,2572875157699\";\"NÃºmero-Ã\\xadndice\";\"0,3182886773263\";\"NÃºmero-Ã\\xadndice\";\"0,4008536605699\";\"NÃºmero-Ã\\xadndice\";\"0,4983410307284\";\"NÃºmero-Ã\\xadndice\";\"0,6049874674181\";\"NÃºmero-Ã\\xadndice\";\"0,7255614652283\";\"NÃºmero-Ã\\xadndice\";\"0,9059361644186\";\"NÃºmero-Ã\\xadndice\";\"1,0890285720637\";\"NÃºmero-Ã\\xadndice\";\"1,3267641484791\";\"NÃºmero-Ã\\xadndice\";\"1,6205100844213\";\"NÃºmero-Ã\\xadndice\";\"2,0196408623306\";\"NÃºmero-Ã\\xadndice\";\"2,5293973801068\";\"NÃºmero-Ã\\xadndice\";\"3,0982598885128\";\"NÃºmero-Ã\\xadndice\";\"3,8802596550900\";\"NÃºmero-Ã\\xadndice\";\"5,0579166458253\";\"NÃºmero-Ã\\xadndice\";\"6,3213843084293\";\"NÃºmero-Ã\\xadndice\";\"8,0445948724789\";\"NÃºmero-Ã\\xadndice\";\"10,2769672819025\";\"NÃºmero-Ã\\xadndice\";\"13,1226581300609\";\"NÃºmero-Ã\\xadndice\";\"17,0686429798089\";\"NÃºmero-Ã\\xadndice\";\"22,3121307612362\";\"NÃºmero-Ã\\xadndice\";\"29,6662109364145\";\"NÃºmero-Ã\\xadndice\";\"40,2540807309468\";\"NÃºmero-Ã\\xadndice\";\"53,9082648348533\";\"NÃºmero-Ã\\xadndice\";\"73,0780465845240\";\"NÃºmero-Ã\\xadndice\";\"100,0000000000000\";\"NÃºmero-Ã\\xadndice\";\"141,3100000000000\";\"NÃºmero-Ã\\xadndice\";\"198,2200000000000\";\"NÃºmero-Ã\\xadndice\";\"282,9600000000000\";\"NÃºmero-Ã\\xadndice\";\"403,7300000000000\";\"NÃºmero-Ã\\xadndice\";\"581,4900000000000\";\"NÃºmero-Ã\\xadndice\";\"857,2900000000000\";\"NÃºmero-Ã\\xadndice\";\"915,9300000000000\";\"NÃºmero-Ã\\xadndice\";\"932,9700000000000\";\"NÃºmero-Ã\\xadndice\";\"947,2400000000000\";\"NÃºmero-Ã\\xadndice\";\"972,0600000000000\";\"NÃºmero-Ã\\xadndice\";\"999,3700000000000\";\"NÃºmero-Ã\\xadndice\";\"1016,4600000000000\";\"NÃºmero-Ã\\xadndice\";\"1033,7400000000000\";\"NÃºmero-Ã\\xadndice\";\"1044,2800000000000\";\"NÃºmero-Ã\\xadndice\";\"1060,4700000000000\";\"NÃºmero-Ã\\xadndice\";\"1086,2400000000000\";\"NÃºmero-Ã\\xadndice\";\"1115,2400000000000\";\"NÃºmero-Ã\\xadndice\";\"1140,4400000000000\";\"NÃºmero-Ã\\xadndice\";\"1167,3500000000000\";\"NÃºmero-Ã\\xadndice\";\"1178,9100000000000\";\"NÃºmero-Ã\\xadndice\";\"1190,5800000000000\";\"NÃºmero-Ã\\xadndice\";\"1207,3700000000000\";\"NÃºmero-Ã\\xadndice\";\"1225,1200000000000\";\"NÃºmero-Ã\\xadndice\";\"1244,2300000000000\";\"NÃºmero-Ã\\xadndice\";\"1260,9000000000000\";\"NÃºmero-Ã\\xadndice\";\"1273,8900000000000\";\"NÃºmero-Ã\\xadndice\";\"1278,3500000000000\";\"NÃºmero-Ã\\xadndice\";\"1294,4600000000000\";\"NÃºmero-Ã\\xadndice\";\"1310,2500000000000\";\"NÃºmero-Ã\\xadndice\";\"1325,8400000000000\";\"NÃºmero-Ã\\xadndice\";\"1340,5600000000000\";\"NÃºmero-Ã\\xadndice\";\"1346,4600000000000\";\"NÃºmero-Ã\\xadndice\";\"1348,4800000000000\";\"NÃºmero-Ã\\xadndice\";\"1352,5300000000000\";\"NÃºmero-Ã\\xadndice\";\"1356,8600000000000\";\"NÃºmero-Ã\\xadndice\";\"1363,2400000000000\";\"NÃºmero-Ã\\xadndice\";\"1379,3300000000000\";\"NÃºmero-Ã\\xadndice\";\"1386,2300000000000\";\"NÃºmero-Ã\\xadndice\";\"1393,3000000000000\";\"NÃºmero-Ã\\xadndice\";\"1405,5600000000000\";\"NÃºmero-Ã\\xadndice\";\"1411,3200000000000\";\"NÃºmero-Ã\\xadndice\";\"1418,9400000000000\";\"NÃºmero-Ã\\xadndice\";\"1422,0600000000000\";\"NÃºmero-Ã\\xadndice\";\"1421,7800000000000\";\"NÃºmero-Ã\\xadndice\";\"1422,6300000000000\";\"NÃºmero-Ã\\xadndice\";\"1425,9000000000000\";\"NÃºmero-Ã\\xadndice\";\"1428,3200000000000\";\"NÃºmero-Ã\\xadndice\";\"1434,4600000000000\";\"NÃºmero-Ã\\xadndice\";\"1444,6400000000000\";\"NÃºmero-Ã\\xadndice\";\"1451,2900000000000\";\"NÃºmero-Ã\\xadndice\";\"1456,2200000000000\";\"NÃºmero-Ã\\xadndice\";\"1459,7100000000000\";\"NÃºmero-Ã\\xadndice\";\"1467,0100000000000\";\"NÃºmero-Ã\\xadndice\";\"1467,3000000000000\";\"NÃºmero-Ã\\xadndice\";\"1465,5400000000000\";\"NÃºmero-Ã\\xadndice\";\"1458,0700000000000\";\"NÃºmero-Ã\\xadndice\";\"1454,8600000000000\";\"NÃºmero-Ã\\xadndice\";\"1455,1500000000000\";\"NÃºmero-Ã\\xadndice\";\"1453,4000000000000\";\"NÃºmero-Ã\\xadndice\";\"1458,2000000000000\";\"NÃºmero-Ã\\xadndice\";\"1468,4100000000000\";\"NÃºmero-Ã\\xadndice\";\"1483,8300000000000\";\"NÃºmero-Ã\\xadndice\";\"1500,1500000000000\";\"NÃºmero-Ã\\xadndice\";\"1508,5500000000000\";\"NÃºmero-Ã\\xadndice\";\"1513,0800000000000\";\"NÃºmero-Ã\\xadndice\";\"1515,9500000000000\";\"NÃºmero-Ã\\xadndice\";\"1532,4700000000000\";\"NÃºmero-Ã\\xadndice\";\"1541,0500000000000\";\"NÃºmero-Ã\\xadndice\";\"1545,8300000000000\";\"NÃºmero-Ã\\xadndice\";\"1564,2300000000000\";\"NÃºmero-Ã\\xadndice\";\"1579,0900000000000\";\"NÃºmero-Ã\\xadndice\";\"1588,5600000000000\";\"NÃºmero-Ã\\xadndice\";\"1598,4100000000000\";\"NÃºmero-Ã\\xadndice\";\"1600,4900000000000\";\"NÃºmero-Ã\\xadndice\";\"1604,0100000000000\";\"NÃºmero-Ã\\xadndice\";\"1610,7500000000000\";\"NÃºmero-Ã\\xadndice\";\"1610,9100000000000\";\"NÃºmero-Ã\\xadndice\";\"1614,6200000000000\";\"NÃºmero-Ã\\xadndice\";\"1640,6200000000000\";\"NÃºmero-Ã\\xadndice\";\"1662,1100000000000\";\"NÃºmero-Ã\\xadndice\";\"1665,9300000000000\";\"NÃºmero-Ã\\xadndice\";\"1668,2600000000000\";\"NÃºmero-Ã\\xadndice\";\"1673,6000000000000\";\"NÃºmero-Ã\\xadndice\";\"1683,4700000000000\";\"NÃºmero-Ã\\xadndice\";\"1693,0700000000000\";\"NÃºmero-Ã\\xadndice\";\"1700,8600000000000\";\"NÃºmero-Ã\\xadndice\";\"1707,3200000000000\";\"NÃºmero-Ã\\xadndice\";\"1717,2200000000000\";\"NÃºmero-Ã\\xadndice\";\"1724,2600000000000\";\"NÃºmero-Ã\\xadndice\";\"1733,2300000000000\";\"NÃºmero-Ã\\xadndice\";\"1756,2800000000000\";\"NÃºmero-Ã\\xadndice\";\"1768,5700000000000\";\"NÃºmero-Ã\\xadndice\";\"1773,5200000000000\";\"NÃºmero-Ã\\xadndice\";\"1788,2400000000000\";\"NÃºmero-Ã\\xadndice\";\"1800,9400000000000\";\"NÃºmero-Ã\\xadndice\";\"1812,6500000000000\";\"NÃºmero-Ã\\xadndice\";\"1822,0800000000000\";\"NÃºmero-Ã\\xadndice\";\"1828,6400000000000\";\"NÃºmero-Ã\\xadndice\";\"1839,6100000000000\";\"NÃºmero-Ã\\xadndice\";\"1854,3300000000000\";\"NÃºmero-Ã\\xadndice\";\"1858,2200000000000\";\"NÃºmero-Ã\\xadndice\";\"1866,0200000000000\";\"NÃºmero-Ã\\xadndice\";\"1888,2300000000000\";\"NÃºmero-Ã\\xadndice\";\"1900,5000000000000\";\"NÃºmero-Ã\\xadndice\";\"1914,1800000000000\";\"NÃºmero-Ã\\xadndice\";\"1939,2600000000000\";\"NÃºmero-Ã\\xadndice\";\"1997,8300000000000\";\"NÃºmero-Ã\\xadndice\";\"2039,7800000000000\";\"NÃºmero-Ã\\xadndice\";\"2085,6800000000000\";\"NÃºmero-Ã\\xadndice\";\"2118,4300000000000\";\"NÃºmero-Ã\\xadndice\";\"2144,4900000000000\";\"NÃºmero-Ã\\xadndice\";\"2165,2900000000000\";\"NÃºmero-Ã\\xadndice\";\"2178,5000000000000\";\"NÃºmero-Ã\\xadndice\";\"2175,2300000000000\";\"NÃºmero-Ã\\xadndice\";\"2179,5800000000000\";\"NÃºmero-Ã\\xadndice\";\"2186,9900000000000\";\"NÃºmero-Ã\\xadndice\";\"2204,0500000000000\";\"NÃºmero-Ã\\xadndice\";\"2210,4400000000000\";\"NÃºmero-Ã\\xadndice\";\"2217,9600000000000\";\"NÃºmero-Ã\\xadndice\";\"2229,4900000000000\";\"NÃºmero-Ã\\xadndice\";\"2246,4300000000000\";\"NÃºmero-Ã\\xadndice\";\"2260,1300000000000\";\"NÃºmero-Ã\\xadndice\";\"2270,7500000000000\";\"NÃºmero-Ã\\xadndice\";\"2279,1500000000000\";\"NÃºmero-Ã\\xadndice\";\"2290,7700000000000\";\"NÃºmero-Ã\\xadndice\";\"2307,0300000000000\";\"NÃºmero-Ã\\xadndice\";\"2328,0200000000000\";\"NÃºmero-Ã\\xadndice\";\"2344,0800000000000\";\"NÃºmero-Ã\\xadndice\";\"2351,8200000000000\";\"NÃºmero-Ã\\xadndice\";\"2362,1700000000000\";\"NÃºmero-Ã\\xadndice\";\"2378,4700000000000\";\"NÃºmero-Ã\\xadndice\";\"2398,9200000000000\";\"NÃºmero-Ã\\xadndice\";\"2412,8300000000000\";\"NÃºmero-Ã\\xadndice\";\"2427,0700000000000\";\"NÃºmero-Ã\\xadndice\";\"2441,8700000000000\";\"NÃºmero-Ã\\xadndice\";\"2463,1100000000000\";\"NÃºmero-Ã\\xadndice\";\"2475,1800000000000\";\"NÃºmero-Ã\\xadndice\";\"2474,6800000000000\";\"NÃºmero-Ã\\xadndice\";\"2480,8700000000000\";\"NÃºmero-Ã\\xadndice\";\"2485,0900000000000\";\"NÃºmero-Ã\\xadndice\";\"2493,7900000000000\";\"NÃºmero-Ã\\xadndice\";\"2512,4900000000000\";\"NÃºmero-Ã\\xadndice\";\"2526,3100000000000\";\"NÃºmero-Ã\\xadndice\";\"2535,4000000000000\";\"NÃºmero-Ã\\xadndice\";\"2550,3600000000000\";\"NÃºmero-Ã\\xadndice\";\"2560,8200000000000\";\"NÃºmero-Ã\\xadndice\";\"2571,8300000000000\";\"NÃºmero-Ã\\xadndice\";\"2577,2300000000000\";\"NÃºmero-Ã\\xadndice\";\"2579,8100000000000\";\"NÃºmero-Ã\\xadndice\";\"2574,3900000000000\";\"NÃºmero-Ã\\xadndice\";\"2579,2800000000000\";\"NÃºmero-Ã\\xadndice\";\"2580,5700000000000\";\"NÃºmero-Ã\\xadndice\";\"2585,9900000000000\";\"NÃºmero-Ã\\xadndice\";\"2594,5200000000000\";\"NÃºmero-Ã\\xadndice\";\"2602,5600000000000\";\"NÃºmero-Ã\\xadndice\";\"2615,0500000000000\";\"NÃºmero-Ã\\xadndice\";\"2626,5600000000000\";\"NÃºmero-Ã\\xadndice\";\"2638,1200000000000\";\"NÃºmero-Ã\\xadndice\";\"2647,8800000000000\";\"NÃºmero-Ã\\xadndice\";\"2654,5000000000000\";\"NÃºmero-Ã\\xadndice\";\"2661,9300000000000\";\"NÃºmero-Ã\\xadndice\";\"2669,3800000000000\";\"NÃºmero-Ã\\xadndice\";\"2675,7900000000000\";\"NÃºmero-Ã\\xadndice\";\"2688,3700000000000\";\"NÃºmero-Ã\\xadndice\";\"2693,2100000000000\";\"NÃºmero-Ã\\xadndice\";\"2701,2900000000000\";\"NÃºmero-Ã\\xadndice\";\"2711,5500000000000\";\"NÃºmero-Ã\\xadndice\";\"2731,6200000000000\";\"NÃºmero-Ã\\xadndice\";\"2746,3700000000000\";\"NÃºmero-Ã\\xadndice\";\"2759,8300000000000\";\"NÃºmero-Ã\\xadndice\";\"2773,0800000000000\";\"NÃºmero-Ã\\xadndice\";\"2788,3300000000000\";\"NÃºmero-Ã\\xadndice\";\"2810,3600000000000\";\"NÃºmero-Ã\\xadndice\";\"2831,1600000000000\";\"NÃºmero-Ã\\xadndice\";\"2846,1600000000000\";\"NÃºmero-Ã\\xadndice\";\"2854,1300000000000\";\"NÃºmero-Ã\\xadndice\";\"2861,5500000000000\";\"NÃºmero-Ã\\xadndice\";\"2874,4300000000000\";\"NÃºmero-Ã\\xadndice\";\"2884,7800000000000\";\"NÃºmero-Ã\\xadndice\";\"2892,8600000000000\";\"NÃºmero-Ã\\xadndice\";\"2906,7400000000000\";\"NÃºmero-Ã\\xadndice\";\"2922,7300000000000\";\"NÃºmero-Ã\\xadndice\";\"2928,5700000000000\";\"NÃºmero-Ã\\xadndice\";\"2942,6300000000000\";\"NÃºmero-Ã\\xadndice\";\"2956,4600000000000\";\"NÃºmero-Ã\\xadndice\";\"2967,1000000000000\";\"NÃºmero-Ã\\xadndice\";\"2974,2200000000000\";\"NÃºmero-Ã\\xadndice\";\"2978,6800000000000\";\"NÃºmero-Ã\\xadndice\";\"2985,8300000000000\";\"NÃºmero-Ã\\xadndice\";\"2994,1900000000000\";\"NÃºmero-Ã\\xadndice\";\"3006,4700000000000\";\"NÃºmero-Ã\\xadndice\";\"3017,5900000000000\";\"NÃºmero-Ã\\xadndice\";\"3040,2200000000000\";\"NÃºmero-Ã\\xadndice\";\"3063,9300000000000\";\"NÃºmero-Ã\\xadndice\";\"3079,8600000000000\";\"NÃºmero-Ã\\xadndice\";\"3097,4200000000000\";\"NÃºmero-Ã\\xadndice\";\"3110,7400000000000\";\"NÃºmero-Ã\\xadndice\";\"3110,7400000000000\";\"NÃºmero-Ã\\xadndice\";\"3111,0500000000000\";\"NÃºmero-Ã\\xadndice\";\"3112,2900000000000\";\"NÃºmero-Ã\\xadndice\";\"3126,2900000000000\";\"NÃºmero-Ã\\xadndice\";\"3149,7400000000000\";\"NÃºmero-Ã\\xadndice\";\"3175,8800000000000\";\"NÃºmero-Ã\\xadndice\";\"3195,8900000000000\";\"NÃºmero-Ã\\xadndice\";\"3222,4200000000000\";\"NÃºmero-Ã\\xadndice\";\"3248,2000000000000\";\"NÃºmero-Ã\\xadndice\";\"3273,8600000000000\";\"NÃºmero-Ã\\xadndice\";\"3299,0700000000000\";\"NÃºmero-Ã\\xadndice\";\"3314,5800000000000\";\"NÃºmero-Ã\\xadndice\";\"3319,5500000000000\";\"NÃºmero-Ã\\xadndice\";\"3324,8600000000000\";\"NÃºmero-Ã\\xadndice\";\"3337,1600000000000\";\"NÃºmero-Ã\\xadndice\";\"3354,8500000000000\";\"NÃºmero-Ã\\xadndice\";\"3369,2800000000000\";\"NÃºmero-Ã\\xadndice\";\"3386,8000000000000\";\"NÃºmero-Ã\\xadndice\";\"3403,7300000000000\";\"NÃºmero-Ã\\xadndice\";\"3422,7900000000000\";\"NÃºmero-Ã\\xadndice\";\"3438,1900000000000\";\"NÃºmero-Ã\\xadndice\";\"3445,4100000000000\";\"NÃºmero-Ã\\xadndice\";\"3467,4600000000000\";\"NÃºmero-Ã\\xadndice\";\"3479,9400000000000\";\"NÃºmero-Ã\\xadndice\";\"3482,7200000000000\";\"NÃºmero-Ã\\xadndice\";\"3497,7000000000000\";\"NÃºmero-Ã\\xadndice\";\"3512,0400000000000\";\"NÃºmero-Ã\\xadndice\";\"3532,0600000000000\";\"NÃºmero-Ã\\xadndice\";\"3552,9000000000000\";\"NÃºmero-Ã\\xadndice\";\"3574,2200000000000\";\"NÃºmero-Ã\\xadndice\";\"3602,4600000000000\";\"NÃºmero-Ã\\xadndice\";\"3633,4400000000000\";\"NÃºmero-Ã\\xadndice\";\"3655,2400000000000\";\"NÃºmero-Ã\\xadndice\";\"3672,4200000000000\";\"NÃºmero-Ã\\xadndice\";\"3692,6200000000000\";\"NÃºmero-Ã\\xadndice\";\"3706,2800000000000\";\"NÃºmero-Ã\\xadndice\";\"3715,9200000000000\";\"NÃºmero-Ã\\xadndice\";\"3717,0300000000000\";\"NÃºmero-Ã\\xadndice\";\"3725,9500000000000\";\"NÃºmero-Ã\\xadndice\";\"3738,9900000000000\";\"NÃºmero-Ã\\xadndice\";\"3760,3000000000000\";\"NÃºmero-Ã\\xadndice\";\"3780,6100000000000\";\"NÃºmero-Ã\\xadndice\";\"3815,3900000000000\";\"NÃºmero-Ã\\xadndice\";\"3836,3700000000000\";\"NÃºmero-Ã\\xadndice\";\"3862,8400000000000\";\"NÃºmero-Ã\\xadndice\";\"3898,3800000000000\";\"NÃºmero-Ã\\xadndice\";\"3924,5000000000000\";\"NÃºmero-Ã\\xadndice\";\"3942,5500000000000\";\"NÃºmero-Ã\\xadndice\";\"3958,3200000000000\";\"NÃºmero-Ã\\xadndice\";\"3958,7200000000000\";\"NÃºmero-Ã\\xadndice\";\"3968,6200000000000\";\"NÃºmero-Ã\\xadndice\";\"3991,2400000000000\";\"NÃºmero-Ã\\xadndice\";\"4008,0000000000000\";\"NÃºmero-Ã\\xadndice\";\"4028,4400000000000\";\"NÃºmero-Ã\\xadndice\";\"4059,8600000000000\";\"NÃºmero-Ã\\xadndice\";\"4110,2000000000000\";\"NÃºmero-Ã\\xadndice\";\"4160,3400000000000\";\"NÃºmero-Ã\\xadndice\";\"4215,2600000000000\";\"NÃºmero-Ã\\xadndice\";\"4245,1900000000000\";\"NÃºmero-Ã\\xadndice\";\"4276,6000000000000\";\"NÃºmero-Ã\\xadndice\";\"4310,3900000000000\";\"NÃºmero-Ã\\xadndice\";\"4337,1100000000000\";\"NÃºmero-Ã\\xadndice\";\"4346,6500000000000\";\"NÃºmero-Ã\\xadndice\";\"4370,1200000000000\";\"NÃºmero-Ã\\xadndice\";\"4405,9500000000000\";\"NÃºmero-Ã\\xadndice\";\"4450,4500000000000\";\"NÃºmero-Ã\\xadndice\";\"4493,1700000000000\";\"NÃºmero-Ã\\xadndice\";\"4550,2300000000000\";\"NÃºmero-Ã\\xadndice\";\"4591,1800000000000\";\"NÃºmero-Ã\\xadndice\";\"4610,9200000000000\";\"NÃºmero-Ã\\xadndice\";\"4639,0500000000000\";\"NÃºmero-Ã\\xadndice\";\"4675,2300000000000\";\"NÃºmero-Ã\\xadndice\";\"4691,5900000000000\";\"NÃºmero-Ã\\xadndice\";\"4715,9900000000000\";\"NÃºmero-Ã\\xadndice\";\"4736,7400000000000\";\"NÃºmero-Ã\\xadndice\";\"4740,5300000000000\";\"NÃºmero-Ã\\xadndice\";\"4752,8600000000000\";\"NÃºmero-Ã\\xadndice\";\"4761,4200000000000\";\"NÃºmero-Ã\\xadndice\";\"4775,7000000000000\";\"NÃºmero-Ã\\xadndice\";\"4793,8500000000000\";\"NÃºmero-Ã\\xadndice\";\"4809,6700000000000\";\"NÃºmero-Ã\\xadndice\";\"4821,6900000000000\";\"NÃºmero-Ã\\xadndice\";\"4828,4400000000000\";\"NÃºmero-Ã\\xadndice\";\"4843,4100000000000\";\"NÃºmero-Ã\\xadndice\";\"4832,2700000000000\";\"NÃºmero-Ã\\xadndice\";\"4843,8700000000000\";\"NÃºmero-Ã\\xadndice\";\"4853,0700000000000\";\"NÃºmero-Ã\\xadndice\";\"4860,8300000000000\";\"NÃºmero-Ã\\xadndice\";\"4881,2500000000000\";\"NÃºmero-Ã\\xadndice\";\"4894,9200000000000\";\"NÃºmero-Ã\\xadndice\";\"4916,4600000000000\";\"NÃºmero-Ã\\xadndice\";\"4930,7200000000000\";\"NÃºmero-Ã\\xadndice\";\"4946,5000000000000\";\"NÃºmero-Ã\\xadndice\";\"4950,9500000000000\";\"NÃºmero-Ã\\xadndice\";\"4961,8400000000000\";\"NÃºmero-Ã\\xadndice\";\"4981,6900000000000\";\"NÃºmero-Ã\\xadndice\";\"5044,4600000000000\";\"NÃºmero-Ã\\xadndice\";\"5061,1100000000000\";\"NÃºmero-Ã\\xadndice\";\"5056,5600000000000\";\"NÃºmero-Ã\\xadndice\";\"5080,8300000000000\";\"NÃºmero-Ã\\xadndice\";\"5103,6900000000000\";\"NÃºmero-Ã\\xadndice\";\"5092,9700000000000\";\"NÃºmero-Ã\\xadndice\";\"5100,6100000000000\";\"NÃºmero-Ã\\xadndice\";\"5116,9300000000000\";\"NÃºmero-Ã\\xadndice\";\"5138,9300000000000\";\"NÃºmero-Ã\\xadndice\";\"5177,4700000000000\";\"NÃºmero-Ã\\xadndice\";\"5206,9800000000000\";\"NÃºmero-Ã\\xadndice\";\"5213,7500000000000\";\"NÃºmero-Ã\\xadndice\";\"5214,2700000000000\";\"NÃºmero-Ã\\xadndice\";\"5224,1800000000000\";\"NÃºmero-Ã\\xadndice\";\"5229,9300000000000\";\"NÃºmero-Ã\\xadndice\";\"5227,8400000000000\";\"NÃºmero-Ã\\xadndice\";\"5233,0700000000000\";\"NÃºmero-Ã\\xadndice\";\"5259,7600000000000\";\"NÃºmero-Ã\\xadndice\";\"5320,2500000000000\";\"NÃºmero-Ã\\xadndice\";\"5331,4200000000000\";\"NÃºmero-Ã\\xadndice\";\"5344,7500000000000\";\"NÃºmero-Ã\\xadndice\";\"5348,4900000000000\";\"NÃºmero-Ã\\xadndice\";\"5331,9100000000000\";\"NÃºmero-Ã\\xadndice\";\"5311,6500000000000\";\"NÃºmero-Ã\\xadndice\";\"5325,4600000000000\";\"NÃºmero-Ã\\xadndice\";\"5344,6300000000000\";\"NÃºmero-Ã\\xadndice\";\"5357,4600000000000\";\"NÃºmero-Ã\\xadndice\";\"5391,7500000000000\";\"NÃºmero-Ã\\xadndice\";\"5438,1200000000000\";\"NÃºmero-Ã\\xadndice\";\"5486,5200000000000\";\"NÃºmero-Ã\\xadndice\";\"5560,5900000000000\";\"NÃºmero-Ã\\xadndice\";\"5574,4900000000000\";\"NÃºmero-Ã\\xadndice\";\"5622,4300000000000\";\"NÃºmero-Ã\\xadndice\";\"5674,7200000000000\";\"NÃºmero-Ã\\xadndice\";\"5692,3100000000000\";\"NÃºmero-Ã\\xadndice\";\"5739,5600000000000\";\"NÃºmero-Ã\\xadndice\";\"5769,9800000000000\";\"NÃºmero-Ã\\xadndice\";\"5825,3700000000000\";\"NÃºmero-Ã\\xadndice\";\"5876,0500000000000\";\"NÃºmero-Ã\\xadndice\";\"5944,2100000000000\";\"NÃºmero-Ã\\xadndice\";\"6018,5100000000000\";\"NÃºmero-Ã\\xadndice\";\"6075,6900000000000\";\"NÃºmero-Ã\\xadndice\";\"6120,0400000000000\";\"NÃºmero-Ã\\xadndice\";\"6153,0900000000000\";\"NÃºmero-Ã\\xadndice\";\"6215,2400000000000\";\"NÃºmero-Ã\\xadndice\";\"6315,9300000000000\";\"NÃºmero-Ã\\xadndice\";\"6382,8800000000000\";\"NÃºmero-Ã\\xadndice\";\"6412,8800000000000\";\"NÃºmero-Ã\\xadndice\";\"6455,8500000000000\";\"NÃºmero-Ã\\xadndice\";\"6411,9500000000000\";\"NÃºmero-Ã\\xadndice\";\"6388,8700000000000\";\"NÃºmero-Ã\\xadndice\";\"6370,3400000000000\";\"NÃºmero-Ã\\xadndice\";\"6407,9300000000000\";\"NÃºmero-Ã\\xadndice\";\"6434,2000000000000\";\"NÃºmero-Ã\\xadndice\";\"6474,0900000000000\";\"NÃºmero-Ã\\xadndice\";\"6508,4000000000000\";\"NÃºmero-Ã\\xadndice\";\"6563,0700000000000\";\"NÃºmero-Ã\\xadndice\";\"6609,6700000000000\";\"NÃºmero-Ã\\xadndice\"\\r\\n\"Fonte: IBGE - Ã\\x8dndice Nacional de PreÃ§os ao Consumidor Amplo\"\\r\\n\\r\\n\"Notas\"\\r\\n\"1 - PerÃ\\xadodo de coleta ajustado ao mÃªs civil (do primeiro ao trigÃ©simo dia de cada mÃªs), para os meses anteriores a marÃ§o de 1986.\"\\r\\n\"\"\\r\\n\"Legenda\"\\r\\n\"SÃ\\xadmbolo\";\"Significado\"\\r\\n\"-\";\"Zero absoluto, nÃ£o resultante de um cÃ¡lculo ou arredondamento.\\nEx: Em determinado municÃ\\xadpio nÃ£o existem pessoas de 14 anos de idade sem instruÃ§Ã£o.\"\\r\\n\"0\";\"Zero resultante de um cÃ¡lculo ou arredondamento.\\nEx: A inflaÃ§Ã£o do feijÃ£o em determinada RegiÃ£o Metropolitana foi 0.\\nDeterminado municÃ\\xadpio produziu 400 kg de sementes de girassol e os dados da tabela sÃ£o expressos em toneladas.\"\\r\\n\"X\";\"Valor inibido para nÃ£o identificar o informante.\\nEx: Determinado municÃ\\xadpio sÃ³ possui uma empresa produtora de cimento, logo o valor de sua produÃ§Ã£o deve ser inibido.\"\\r\\n\"..\";\"Valor nÃ£o se aplica.\\nEx: NÃ£o se pode obter o total da produÃ§Ã£o agrÃ\\xadcola em determinado municÃ\\xadpio quando os produtos agrÃ\\xadcolas sÃ£o contabilizados com unidades de medida distintas.\"\\r\\n\"...\";\"Valor nÃ£o disponÃ\\xadvel.\\nEx: A produÃ§Ã£o de feijÃ£o em determinado municÃ\\xadpio nÃ£o foi pesquisada ou determinado municÃ\\xadpio nÃ£o existia no ano da pesquisa.\"\\r\\n\"A a Z\\n(exceto X)\";\"Significa uma faixa de valores. Varia em funÃ§Ã£o da tabela (se for o caso).\\nEx: O nÃ\\xadvel de precisÃ£o da produÃ§Ã£o estimada de combustÃ\\xadveis estÃ¡ na faixa A (95 a 100%)\"\\r\\n'"
      ]
     },
     "execution_count": 2,
     "metadata": {},
     "output_type": "execute_result"
    }
   ],
   "source": [
    "##############################################################################################################################\n",
    "# Webscraping done in the SINDRA website 'https://sidra.ibge.gov.br/tabela/1737' from \n",
    "# 'https://dados.gov.br/dados/conjuntos-dados', 'https://dados.gov.br/dados/conjuntos-dados/ia-indice-nacional-de-precos-ao-consumidor-amplo-ipca'\n",
    "##############################################################################################################################\n",
    "\n",
    "head = {'user-agent':'Mozilla/5.0'}\n",
    "answer = requests.get('https://sidra.ibge.gov.br/geratabela?format=br.csv&name=tabela1737.csv&terr=NCS&rank=-&query=t/1737/n1/all/v/2266/p/all/d/v2266%2013/l/v,p,t&measurecol=true', \n",
    "                      headers = head)\n",
    "answer.text"
   ]
  },
  {
   "cell_type": "code",
   "execution_count": 3,
   "id": "d1fa4354-e5ce-4a17-ab42-310bdd1b13e9",
   "metadata": {
    "scrolled": true,
    "tags": []
   },
   "outputs": [
    {
     "data": {
      "text/plain": [
       "'\"Tabela 1737 - IPCA - Série histórica com número-índice, variação mensal e variações acumuladas em 3 meses, em 6 meses, no ano e em 12 meses (a partir de dezembro/1979)\"\\r\\n\"Variável - IPCA - Número-índice (base: dezembro de 1993 = 100)\"\\r\\n\"Nível\";\"Cód.\";\"\";\"Mês\"\\r\\n\"Nível\";\"Cód.\";\"\";\"dezembro 1979\";;\"janeiro 1980\";;\"fevereiro 1980\";;\"março 1980\";;\"abril 1980\";;\"maio 1980\";;\"junho 1980\";;\"julho 1980\";;\"agosto 1980\";;\"setembro 1980\";;\"outubro 1980\";;\"novembro 1980\";;\"dezembro 1980\";;\"janeiro 1981\";;\"fevereiro 1981\";;\"março 1981\";;\"abril 1981\";;\"maio 1981\";;\"junho 1981\";;\"julho 1981\";;\"agosto 1981\";;\"setembro 1981\";;\"outubro 1981\";;\"novembro 1981\";;\"dezembro 1981\";;\"janeiro 1982\";;\"fevereiro 1982\";;\"março 1982\";;\"abril 1982\";;\"maio 1982\";;\"junho 1982\";;\"julho 1982\";;\"agosto 1982\";;\"setembro 1982\";;\"outubro 1982\";;\"novembro 1982\";;\"dezembro 1982\";;\"janeiro 1983\";;\"fevereiro 1983\";;\"março 1983\";;\"abril 1983\";;\"maio 1983\";;\"junho 1983\";;\"julho 1983\";;\"agosto 1983\";;\"setembro 1983\";;\"outubro 1983\";;\"novembro 1983\";;\"dezembro 1983\";;\"janeiro 1984\";;\"fevereiro 1984\";;\"março 1984\";;\"abril 1984\";;\"maio 1984\";;\"junho 1984\";;\"julho 1984\";;\"agosto 1984\";;\"setembro 1984\";;\"outubro 1984\";;\"novembro 1984\";;\"dezembro 1984\";;\"janeiro 1985\";;\"fevereiro 1985\";;\"março 1985\";;\"abril 1985\";;\"maio 1985\";;\"junho 1985\";;\"julho 1985\";;\"agosto 1985\";;\"setembro 1985\";;\"outubro 1985\";;\"novembro 1985\";;\"dezembro 1985\";;\"janeiro 1986\";;\"fevereiro 1986\";;\"março 1986\";;\"abril 1986\";;\"maio 1986\";;\"junho 1986\";;\"julho 1986\";;\"agosto 1986\";;\"setembro 1986\";;\"outubro 1986\";;\"novembro 1986\";;\"dezembro 1986\";;\"janeiro 1987\";;\"fevereiro 1987\";;\"março 1987\";;\"abril 1987\";;\"maio 1987\";;\"junho 1987\";;\"julho 1987\";;\"agosto 1987\";;\"setembro 1987\";;\"outubro 1987\";;\"novembro 1987\";;\"dezembro 1987\";;\"janeiro 1988\";;\"fevereiro 1988\";;\"março 1988\";;\"abril 1988\";;\"maio 1988\";;\"junho 1988\";;\"julho 1988\";;\"agosto 1988\";;\"setembro 1988\";;\"outubro 1988\";;\"novembro 1988\";;\"dezembro 1988\";;\"janeiro 1989\";;\"fevereiro 1989\";;\"março 1989\";;\"abril 1989\";;\"maio 1989\";;\"junho 1989\";;\"julho 1989\";;\"agosto 1989\";;\"setembro 1989\";;\"outubro 1989\";;\"novembro 1989\";;\"dezembro 1989\";;\"janeiro 1990\";;\"fevereiro 1990\";;\"março 1990\";;\"abril 1990\";;\"maio 1990\";;\"junho 1990\";;\"julho 1990\";;\"agosto 1990\";;\"setembro 1990\";;\"outubro 1990\";;\"novembro 1990\";;\"dezembro 1990\";;\"janeiro 1991\";;\"fevereiro 1991\";;\"março 1991\";;\"abril 1991\";;\"maio 1991\";;\"junho 1991\";;\"julho 1991\";;\"agosto 1991\";;\"setembro 1991\";;\"outubro 1991\";;\"novembro 1991\";;\"dezembro 1991\";;\"janeiro 1992\";;\"fevereiro 1992\";;\"março 1992\";;\"abril 1992\";;\"maio 1992\";;\"junho 1992\";;\"julho 1992\";;\"agosto 1992\";;\"setembro 1992\";;\"outubro 1992\";;\"novembro 1992\";;\"dezembro 1992\";;\"janeiro 1993\";;\"fevereiro 1993\";;\"março 1993\";;\"abril 1993\";;\"maio 1993\";;\"junho 1993\";;\"julho 1993\";;\"agosto 1993\";;\"setembro 1993\";;\"outubro 1993\";;\"novembro 1993\";;\"dezembro 1993\";;\"janeiro 1994\";;\"fevereiro 1994\";;\"março 1994\";;\"abril 1994\";;\"maio 1994\";;\"junho 1994\";;\"julho 1994\";;\"agosto 1994\";;\"setembro 1994\";;\"outubro 1994\";;\"novembro 1994\";;\"dezembro 1994\";;\"janeiro 1995\";;\"fevereiro 1995\";;\"março 1995\";;\"abril 1995\";;\"maio 1995\";;\"junho 1995\";;\"julho 1995\";;\"agosto 1995\";;\"setembro 1995\";;\"outubro 1995\";;\"novembro 1995\";;\"dezembro 1995\";;\"janeiro 1996\";;\"fevereiro 1996\";;\"março 1996\";;\"abril 1996\";;\"maio 1996\";;\"junho 1996\";;\"julho 1996\";;\"agosto 1996\";;\"setembro 1996\";;\"outubro 1996\";;\"novembro 1996\";;\"dezembro 1996\";;\"janeiro 1997\";;\"fevereiro 1997\";;\"março 1997\";;\"abril 1997\";;\"maio 1997\";;\"junho 1997\";;\"julho 1997\";;\"agosto 1997\";;\"setembro 1997\";;\"outubro 1997\";;\"novembro 1997\";;\"dezembro 1997\";;\"janeiro 1998\";;\"fevereiro 1998\";;\"março 1998\";;\"abril 1998\";;\"maio 1998\";;\"junho 1998\";;\"julho 1998\";;\"agosto 1998\";;\"setembro 1998\";;\"outubro 1998\";;\"novembro 1998\";;\"dezembro 1998\";;\"janeiro 1999\";;\"fevereiro 1999\";;\"março 1999\";;\"abril 1999\";;\"maio 1999\";;\"junho 1999\";;\"julho 1999\";;\"agosto 1999\";;\"setembro 1999\";;\"outubro 1999\";;\"novembro 1999\";;\"dezembro 1999\";;\"janeiro 2000\";;\"fevereiro 2000\";;\"março 2000\";;\"abril 2000\";;\"maio 2000\";;\"junho 2000\";;\"julho 2000\";;\"agosto 2000\";;\"setembro 2000\";;\"outubro 2000\";;\"novembro 2000\";;\"dezembro 2000\";;\"janeiro 2001\";;\"fevereiro 2001\";;\"março 2001\";;\"abril 2001\";;\"maio 2001\";;\"junho 2001\";;\"julho 2001\";;\"agosto 2001\";;\"setembro 2001\";;\"outubro 2001\";;\"novembro 2001\";;\"dezembro 2001\";;\"janeiro 2002\";;\"fevereiro 2002\";;\"março 2002\";;\"abril 2002\";;\"maio 2002\";;\"junho 2002\";;\"julho 2002\";;\"agosto 2002\";;\"setembro 2002\";;\"outubro 2002\";;\"novembro 2002\";;\"dezembro 2002\";;\"janeiro 2003\";;\"fevereiro 2003\";;\"março 2003\";;\"abril 2003\";;\"maio 2003\";;\"junho 2003\";;\"julho 2003\";;\"agosto 2003\";;\"setembro 2003\";;\"outubro 2003\";;\"novembro 2003\";;\"dezembro 2003\";;\"janeiro 2004\";;\"fevereiro 2004\";;\"março 2004\";;\"abril 2004\";;\"maio 2004\";;\"junho 2004\";;\"julho 2004\";;\"agosto 2004\";;\"setembro 2004\";;\"outubro 2004\";;\"novembro 2004\";;\"dezembro 2004\";;\"janeiro 2005\";;\"fevereiro 2005\";;\"março 2005\";;\"abril 2005\";;\"maio 2005\";;\"junho 2005\";;\"julho 2005\";;\"agosto 2005\";;\"setembro 2005\";;\"outubro 2005\";;\"novembro 2005\";;\"dezembro 2005\";;\"janeiro 2006\";;\"fevereiro 2006\";;\"março 2006\";;\"abril 2006\";;\"maio 2006\";;\"junho 2006\";;\"julho 2006\";;\"agosto 2006\";;\"setembro 2006\";;\"outubro 2006\";;\"novembro 2006\";;\"dezembro 2006\";;\"janeiro 2007\";;\"fevereiro 2007\";;\"março 2007\";;\"abril 2007\";;\"maio 2007\";;\"junho 2007\";;\"julho 2007\";;\"agosto 2007\";;\"setembro 2007\";;\"outubro 2007\";;\"novembro 2007\";;\"dezembro 2007\";;\"janeiro 2008\";;\"fevereiro 2008\";;\"março 2008\";;\"abril 2008\";;\"maio 2008\";;\"junho 2008\";;\"julho 2008\";;\"agosto 2008\";;\"setembro 2008\";;\"outubro 2008\";;\"novembro 2008\";;\"dezembro 2008\";;\"janeiro 2009\";;\"fevereiro 2009\";;\"março 2009\";;\"abril 2009\";;\"maio 2009\";;\"junho 2009\";;\"julho 2009\";;\"agosto 2009\";;\"setembro 2009\";;\"outubro 2009\";;\"novembro 2009\";;\"dezembro 2009\";;\"janeiro 2010\";;\"fevereiro 2010\";;\"março 2010\";;\"abril 2010\";;\"maio 2010\";;\"junho 2010\";;\"julho 2010\";;\"agosto 2010\";;\"setembro 2010\";;\"outubro 2010\";;\"novembro 2010\";;\"dezembro 2010\";;\"janeiro 2011\";;\"fevereiro 2011\";;\"março 2011\";;\"abril 2011\";;\"maio 2011\";;\"junho 2011\";;\"julho 2011\";;\"agosto 2011\";;\"setembro 2011\";;\"outubro 2011\";;\"novembro 2011\";;\"dezembro 2011\";;\"janeiro 2012\";;\"fevereiro 2012\";;\"março 2012\";;\"abril 2012\";;\"maio 2012\";;\"junho 2012\";;\"julho 2012\";;\"agosto 2012\";;\"setembro 2012\";;\"outubro 2012\";;\"novembro 2012\";;\"dezembro 2012\";;\"janeiro 2013\";;\"fevereiro 2013\";;\"março 2013\";;\"abril 2013\";;\"maio 2013\";;\"junho 2013\";;\"julho 2013\";;\"agosto 2013\";;\"setembro 2013\";;\"outubro 2013\";;\"novembro 2013\";;\"dezembro 2013\";;\"janeiro 2014\";;\"fevereiro 2014\";;\"março 2014\";;\"abril 2014\";;\"maio 2014\";;\"junho 2014\";;\"julho 2014\";;\"agosto 2014\";;\"setembro 2014\";;\"outubro 2014\";;\"novembro 2014\";;\"dezembro 2014\";;\"janeiro 2015\";;\"fevereiro 2015\";;\"março 2015\";;\"abril 2015\";;\"maio 2015\";;\"junho 2015\";;\"julho 2015\";;\"agosto 2015\";;\"setembro 2015\";;\"outubro 2015\";;\"novembro 2015\";;\"dezembro 2015\";;\"janeiro 2016\";;\"fevereiro 2016\";;\"março 2016\";;\"abril 2016\";;\"maio 2016\";;\"junho 2016\";;\"julho 2016\";;\"agosto 2016\";;\"setembro 2016\";;\"outubro 2016\";;\"novembro 2016\";;\"dezembro 2016\";;\"janeiro 2017\";;\"fevereiro 2017\";;\"março 2017\";;\"abril 2017\";;\"maio 2017\";;\"junho 2017\";;\"julho 2017\";;\"agosto 2017\";;\"setembro 2017\";;\"outubro 2017\";;\"novembro 2017\";;\"dezembro 2017\";;\"janeiro 2018\";;\"fevereiro 2018\";;\"março 2018\";;\"abril 2018\";;\"maio 2018\";;\"junho 2018\";;\"julho 2018\";;\"agosto 2018\";;\"setembro 2018\";;\"outubro 2018\";;\"novembro 2018\";;\"dezembro 2018\";;\"janeiro 2019\";;\"fevereiro 2019\";;\"março 2019\";;\"abril 2019\";;\"maio 2019\";;\"junho 2019\";;\"julho 2019\";;\"agosto 2019\";;\"setembro 2019\";;\"outubro 2019\";;\"novembro 2019\";;\"dezembro 2019\";;\"janeiro 2020\";;\"fevereiro 2020\";;\"março 2020\";;\"abril 2020\";;\"maio 2020\";;\"junho 2020\";;\"julho 2020\";;\"agosto 2020\";;\"setembro 2020\";;\"outubro 2020\";;\"novembro 2020\";;\"dezembro 2020\";;\"janeiro 2021\";;\"fevereiro 2021\";;\"março 2021\";;\"abril 2021\";;\"maio 2021\";;\"junho 2021\";;\"julho 2021\";;\"agosto 2021\";;\"setembro 2021\";;\"outubro 2021\";;\"novembro 2021\";;\"dezembro 2021\";;\"janeiro 2022\";;\"fevereiro 2022\";;\"março 2022\";;\"abril 2022\";;\"maio 2022\";;\"junho 2022\";;\"julho 2022\";;\"agosto 2022\";;\"setembro 2022\";;\"outubro 2022\";;\"novembro 2022\";;\"dezembro 2022\";;\"janeiro 2023\";;\"fevereiro 2023\";;\"março 2023\"\\r\\n\"BR\";\"1\";\"Brasil\";\"0,0000000076183\";\"Número-índice\";\"0,0000000081223\";\"Número-índice\";\"0,0000000084973\";\"Número-índice\";\"0,0000000090104\";\"Número-índice\";\"0,0000000094867\";\"Número-índice\";\"0,0000000100277\";\"Número-índice\";\"0,0000000105597\";\"Número-índice\";\"0,0000000111453\";\"Número-índice\";\"0,0000000116965\";\"Número-índice\";\"0,0000000121913\";\"Número-índice\";\"0,0000000133471\";\"Número-índice\";\"0,0000000142378\";\"Número-índice\";\"0,0000000151795\";\"Número-índice\";\"0,0000000162174\";\"Número-índice\";\"0,0000000172555\";\"Número-índice\";\"0,0000000181134\";\"Número-índice\";\"0,0000000192839\";\"Número-índice\";\"0,0000000203560\";\"Número-índice\";\"0,0000000214792\";\"Número-índice\";\"0,0000000228229\";\"Número-índice\";\"0,0000000240772\";\"Número-índice\";\"0,0000000253429\";\"Número-índice\";\"0,0000000266297\";\"Número-índice\";\"0,0000000280335\";\"Número-índice\";\"0,0000000296946\";\"Número-índice\";\"0,0000000317628\";\"Número-índice\";\"0,0000000338708\";\"Número-índice\";\"0,0000000358057\";\"Número-índice\";\"0,0000000379137\";\"Número-índice\";\"0,0000000404382\";\"Número-índice\";\"0,0000000433113\";\"Número-índice\";\"0,0000000460650\";\"Número-índice\";\"0,0000000488164\";\"Número-índice\";\"0,0000000512964\";\"Número-índice\";\"0,0000000535752\";\"Número-índice\";\"0,0000000564085\";\"Número-índice\";\"0,0000000608117\";\"Número-índice\";\"0,0000000660665\";\"Número-índice\";\"0,0000000712581\";\"Número-índice\";\"0,0000000764919\";\"Número-índice\";\"0,0000000815245\";\"Número-índice\";\"0,0000000868097\";\"Número-índice\";\"0,0000000953868\";\"Número-índice\";\"0,0000001050003\";\"Número-índice\";\"0,0000001145671\";\"Número-índice\";\"0,0000001263682\";\"Número-índice\";\"0,0000001375727\";\"Número-índice\";\"0,0000001477314\";\"Número-índice\";\"0,0000001605502\";\"Número-índice\";\"0,0000001760737\";\"Número-índice\";\"0,0000001928020\";\"Número-índice\";\"0,0000002100357\";\"Número-índice\";\"0,0000002300794\";\"Número-índice\";\"0,0000002509021\";\"Número-índice\";\"0,0000002761935\";\"Número-índice\";\"0,0000003030524\";\"Número-índice\";\"0,0000003313854\";\"Número-índice\";\"0,0000003703168\";\"Número-índice\";\"0,0000004089675\";\"Número-índice\";\"0,0000004520168\";\"Número-índice\";\"0,0000005061559\";\"Número-índice\";\"0,0000005656761\";\"Número-índice\";\"0,0000006271382\";\"Número-índice\";\"0,0000006908698\";\"Número-índice\";\"0,0000007474889\";\"Número-índice\";\"0,0000008012770\";\"Número-índice\";\"0,0000008693369\";\"Número-índice\";\"0,0000009589916\";\"Número-índice\";\"0,0000010745459\";\"Número-índice\";\"0,0000011940075\";\"Número-índice\";\"0,0000013207687\";\"Número-índice\";\"0,0000015053189\";\"Número-índice\";\"0,0000017322163\";\"Número-índice\";\"0,0000019811765\";\"Número-índice\";\"0,0000022331080\";\"Número-índice\";\"0,0000023396314\";\"Número-índice\";\"0,0000023578806\";\"Número-índice\";\"0,0000023908694\";\"Número-índice\";\"0,0000024212846\";\"Número-índice\";\"0,0000024626960\";\"Número-índice\";\"0,0000025501983\";\"Número-índice\";\"0,0000025939494\";\"Número-índice\";\"0,0000026433156\";\"Número-índice\";\"0,0000027874369\";\"Número-índice\";\"0,0000031121777\";\"Número-índice\";\"0,0000035232510\";\"Número-índice\";\"0,0000039684829\";\"Número-índice\";\"0,0000046181985\";\"Número-índice\";\"0,0000055002395\";\"Número-índice\";\"0,0000066801157\";\"Número-índice\";\"0,0000079968603\";\"Número-índice\";\"0,0000087333762\";\"Número-índice\";\"0,0000091587212\";\"Número-índice\";\"0,0000098713730\";\"Número-índice\";\"0,0000109789545\";\"Número-índice\";\"0,0000126344777\";\"Número-índice\";\"0,0000144221901\";\"Número-índice\";\"0,0000171464570\";\"Número-índice\";\"0,0000198384369\";\"Número-índice\";\"0,0000233301029\";\"Número-índice\";\"0,0000278303890\";\"Número-índice\";\"0,0000326783343\";\"Número-índice\";\"0,0000398675537\";\"Número-índice\";\"0,0000486025677\";\"Número-índice\";\"0,0000590958147\";\"Número-índice\";\"0,0000753176493\";\"Número-índice\";\"0,0000946139936\";\"Número-índice\";\"0,0001210492553\";\"Número-índice\";\"0,0001557904426\";\"Número-índice\";\"0,0002141963000\";\"Número-índice\";\"0,0002501384201\";\"Número-índice\";\"0,0002671978428\";\"Número-índice\";\"0,0002894554586\";\"Número-índice\";\"0,0003413257896\";\"Número-índice\";\"0,0004391155989\";\"Número-índice\";\"0,0005609261703\";\"Número-índice\";\"0,0007500144816\";\"Número-índice\";\"0,0010317199110\";\"Número-índice\";\"0,0014420348808\";\"Número-índice\";\"0,0021316159803\";\"Número-índice\";\"0,0032293981927\";\"Número-índice\";\"0,0054108567454\";\"Número-índice\";\"0,0095084984833\";\"Número-índice\";\"0,0173425503510\";\"Número-índice\";\"0,0200341140678\";\"Número-índice\";\"0,0215547032441\";\"Número-índice\";\"0,0240873809519\";\"Número-índice\";\"0,0271994704920\";\"Número-índice\";\"0,0307027623187\";\"Número-índice\";\"0,0351270304097\";\"Número-índice\";\"0,0401712720553\";\"Número-índice\";\"0,0469240627842\";\"Número-índice\";\"0,0555768600186\";\"Número-índice\";\"0,0671090584724\";\"Número-índice\";\"0,0810143888491\";\"Número-índice\";\"0,0906736471203\";\"Número-índice\";\"0,0951976035258\";\"Número-índice\";\"0,1022725378062\";\"Número-índice\";\"0,1137158132840\";\"Número-índice\";\"0,1278267780427\";\"Número-índice\";\"0,1478066592194\";\"Número-índice\";\"0,1709099599291\";\"Número-índice\";\"0,2054843245466\";\"Número-índice\";\"0,2572875157699\";\"Número-índice\";\"0,3182886773263\";\"Número-índice\";\"0,4008536605699\";\"Número-índice\";\"0,4983410307284\";\"Número-índice\";\"0,6049874674181\";\"Número-índice\";\"0,7255614652283\";\"Número-índice\";\"0,9059361644186\";\"Número-índice\";\"1,0890285720637\";\"Número-índice\";\"1,3267641484791\";\"Número-índice\";\"1,6205100844213\";\"Número-índice\";\"2,0196408623306\";\"Número-índice\";\"2,5293973801068\";\"Número-índice\";\"3,0982598885128\";\"Número-índice\";\"3,8802596550900\";\"Número-índice\";\"5,0579166458253\";\"Número-índice\";\"6,3213843084293\";\"Número-índice\";\"8,0445948724789\";\"Número-índice\";\"10,2769672819025\";\"Número-índice\";\"13,1226581300609\";\"Número-índice\";\"17,0686429798089\";\"Número-índice\";\"22,3121307612362\";\"Número-índice\";\"29,6662109364145\";\"Número-índice\";\"40,2540807309468\";\"Número-índice\";\"53,9082648348533\";\"Número-índice\";\"73,0780465845240\";\"Número-índice\";\"100,0000000000000\";\"Número-índice\";\"141,3100000000000\";\"Número-índice\";\"198,2200000000000\";\"Número-índice\";\"282,9600000000000\";\"Número-índice\";\"403,7300000000000\";\"Número-índice\";\"581,4900000000000\";\"Número-índice\";\"857,2900000000000\";\"Número-índice\";\"915,9300000000000\";\"Número-índice\";\"932,9700000000000\";\"Número-índice\";\"947,2400000000000\";\"Número-índice\";\"972,0600000000000\";\"Número-índice\";\"999,3700000000000\";\"Número-índice\";\"1016,4600000000000\";\"Número-índice\";\"1033,7400000000000\";\"Número-índice\";\"1044,2800000000000\";\"Número-índice\";\"1060,4700000000000\";\"Número-índice\";\"1086,2400000000000\";\"Número-índice\";\"1115,2400000000000\";\"Número-índice\";\"1140,4400000000000\";\"Número-índice\";\"1167,3500000000000\";\"Número-índice\";\"1178,9100000000000\";\"Número-índice\";\"1190,5800000000000\";\"Número-índice\";\"1207,3700000000000\";\"Número-índice\";\"1225,1200000000000\";\"Número-índice\";\"1244,2300000000000\";\"Número-índice\";\"1260,9000000000000\";\"Número-índice\";\"1273,8900000000000\";\"Número-índice\";\"1278,3500000000000\";\"Número-índice\";\"1294,4600000000000\";\"Número-índice\";\"1310,2500000000000\";\"Número-índice\";\"1325,8400000000000\";\"Número-índice\";\"1340,5600000000000\";\"Número-índice\";\"1346,4600000000000\";\"Número-índice\";\"1348,4800000000000\";\"Número-índice\";\"1352,5300000000000\";\"Número-índice\";\"1356,8600000000000\";\"Número-índice\";\"1363,2400000000000\";\"Número-índice\";\"1379,3300000000000\";\"Número-índice\";\"1386,2300000000000\";\"Número-índice\";\"1393,3000000000000\";\"Número-índice\";\"1405,5600000000000\";\"Número-índice\";\"1411,3200000000000\";\"Número-índice\";\"1418,9400000000000\";\"Número-índice\";\"1422,0600000000000\";\"Número-índice\";\"1421,7800000000000\";\"Número-índice\";\"1422,6300000000000\";\"Número-índice\";\"1425,9000000000000\";\"Número-índice\";\"1428,3200000000000\";\"Número-índice\";\"1434,4600000000000\";\"Número-índice\";\"1444,6400000000000\";\"Número-índice\";\"1451,2900000000000\";\"Número-índice\";\"1456,2200000000000\";\"Número-índice\";\"1459,7100000000000\";\"Número-índice\";\"1467,0100000000000\";\"Número-índice\";\"1467,3000000000000\";\"Número-índice\";\"1465,5400000000000\";\"Número-índice\";\"1458,0700000000000\";\"Número-índice\";\"1454,8600000000000\";\"Número-índice\";\"1455,1500000000000\";\"Número-índice\";\"1453,4000000000000\";\"Número-índice\";\"1458,2000000000000\";\"Número-índice\";\"1468,4100000000000\";\"Número-índice\";\"1483,8300000000000\";\"Número-índice\";\"1500,1500000000000\";\"Número-índice\";\"1508,5500000000000\";\"Número-índice\";\"1513,0800000000000\";\"Número-índice\";\"1515,9500000000000\";\"Número-índice\";\"1532,4700000000000\";\"Número-índice\";\"1541,0500000000000\";\"Número-índice\";\"1545,8300000000000\";\"Número-índice\";\"1564,2300000000000\";\"Número-índice\";\"1579,0900000000000\";\"Número-índice\";\"1588,5600000000000\";\"Número-índice\";\"1598,4100000000000\";\"Número-índice\";\"1600,4900000000000\";\"Número-índice\";\"1604,0100000000000\";\"Número-índice\";\"1610,7500000000000\";\"Número-índice\";\"1610,9100000000000\";\"Número-índice\";\"1614,6200000000000\";\"Número-índice\";\"1640,6200000000000\";\"Número-índice\";\"1662,1100000000000\";\"Número-índice\";\"1665,9300000000000\";\"Número-índice\";\"1668,2600000000000\";\"Número-índice\";\"1673,6000000000000\";\"Número-índice\";\"1683,4700000000000\";\"Número-índice\";\"1693,0700000000000\";\"Número-índice\";\"1700,8600000000000\";\"Número-índice\";\"1707,3200000000000\";\"Número-índice\";\"1717,2200000000000\";\"Número-índice\";\"1724,2600000000000\";\"Número-índice\";\"1733,2300000000000\";\"Número-índice\";\"1756,2800000000000\";\"Número-índice\";\"1768,5700000000000\";\"Número-índice\";\"1773,5200000000000\";\"Número-índice\";\"1788,2400000000000\";\"Número-índice\";\"1800,9400000000000\";\"Número-índice\";\"1812,6500000000000\";\"Número-índice\";\"1822,0800000000000\";\"Número-índice\";\"1828,6400000000000\";\"Número-índice\";\"1839,6100000000000\";\"Número-índice\";\"1854,3300000000000\";\"Número-índice\";\"1858,2200000000000\";\"Número-índice\";\"1866,0200000000000\";\"Número-índice\";\"1888,2300000000000\";\"Número-índice\";\"1900,5000000000000\";\"Número-índice\";\"1914,1800000000000\";\"Número-índice\";\"1939,2600000000000\";\"Número-índice\";\"1997,8300000000000\";\"Número-índice\";\"2039,7800000000000\";\"Número-índice\";\"2085,6800000000000\";\"Número-índice\";\"2118,4300000000000\";\"Número-índice\";\"2144,4900000000000\";\"Número-índice\";\"2165,2900000000000\";\"Número-índice\";\"2178,5000000000000\";\"Número-índice\";\"2175,2300000000000\";\"Número-índice\";\"2179,5800000000000\";\"Número-índice\";\"2186,9900000000000\";\"Número-índice\";\"2204,0500000000000\";\"Número-índice\";\"2210,4400000000000\";\"Número-índice\";\"2217,9600000000000\";\"Número-índice\";\"2229,4900000000000\";\"Número-índice\";\"2246,4300000000000\";\"Número-índice\";\"2260,1300000000000\";\"Número-índice\";\"2270,7500000000000\";\"Número-índice\";\"2279,1500000000000\";\"Número-índice\";\"2290,7700000000000\";\"Número-índice\";\"2307,0300000000000\";\"Número-índice\";\"2328,0200000000000\";\"Número-índice\";\"2344,0800000000000\";\"Número-índice\";\"2351,8200000000000\";\"Número-índice\";\"2362,1700000000000\";\"Número-índice\";\"2378,4700000000000\";\"Número-índice\";\"2398,9200000000000\";\"Número-índice\";\"2412,8300000000000\";\"Número-índice\";\"2427,0700000000000\";\"Número-índice\";\"2441,8700000000000\";\"Número-índice\";\"2463,1100000000000\";\"Número-índice\";\"2475,1800000000000\";\"Número-índice\";\"2474,6800000000000\";\"Número-índice\";\"2480,8700000000000\";\"Número-índice\";\"2485,0900000000000\";\"Número-índice\";\"2493,7900000000000\";\"Número-índice\";\"2512,4900000000000\";\"Número-índice\";\"2526,3100000000000\";\"Número-índice\";\"2535,4000000000000\";\"Número-índice\";\"2550,3600000000000\";\"Número-índice\";\"2560,8200000000000\";\"Número-índice\";\"2571,8300000000000\";\"Número-índice\";\"2577,2300000000000\";\"Número-índice\";\"2579,8100000000000\";\"Número-índice\";\"2574,3900000000000\";\"Número-índice\";\"2579,2800000000000\";\"Número-índice\";\"2580,5700000000000\";\"Número-índice\";\"2585,9900000000000\";\"Número-índice\";\"2594,5200000000000\";\"Número-índice\";\"2602,5600000000000\";\"Número-índice\";\"2615,0500000000000\";\"Número-índice\";\"2626,5600000000000\";\"Número-índice\";\"2638,1200000000000\";\"Número-índice\";\"2647,8800000000000\";\"Número-índice\";\"2654,5000000000000\";\"Número-índice\";\"2661,9300000000000\";\"Número-índice\";\"2669,3800000000000\";\"Número-índice\";\"2675,7900000000000\";\"Número-índice\";\"2688,3700000000000\";\"Número-índice\";\"2693,2100000000000\";\"Número-índice\";\"2701,2900000000000\";\"Número-índice\";\"2711,5500000000000\";\"Número-índice\";\"2731,6200000000000\";\"Número-índice\";\"2746,3700000000000\";\"Número-índice\";\"2759,8300000000000\";\"Número-índice\";\"2773,0800000000000\";\"Número-índice\";\"2788,3300000000000\";\"Número-índice\";\"2810,3600000000000\";\"Número-índice\";\"2831,1600000000000\";\"Número-índice\";\"2846,1600000000000\";\"Número-índice\";\"2854,1300000000000\";\"Número-índice\";\"2861,5500000000000\";\"Número-índice\";\"2874,4300000000000\";\"Número-índice\";\"2884,7800000000000\";\"Número-índice\";\"2892,8600000000000\";\"Número-índice\";\"2906,7400000000000\";\"Número-índice\";\"2922,7300000000000\";\"Número-índice\";\"2928,5700000000000\";\"Número-índice\";\"2942,6300000000000\";\"Número-índice\";\"2956,4600000000000\";\"Número-índice\";\"2967,1000000000000\";\"Número-índice\";\"2974,2200000000000\";\"Número-índice\";\"2978,6800000000000\";\"Número-índice\";\"2985,8300000000000\";\"Número-índice\";\"2994,1900000000000\";\"Número-índice\";\"3006,4700000000000\";\"Número-índice\";\"3017,5900000000000\";\"Número-índice\";\"3040,2200000000000\";\"Número-índice\";\"3063,9300000000000\";\"Número-índice\";\"3079,8600000000000\";\"Número-índice\";\"3097,4200000000000\";\"Número-índice\";\"3110,7400000000000\";\"Número-índice\";\"3110,7400000000000\";\"Número-índice\";\"3111,0500000000000\";\"Número-índice\";\"3112,2900000000000\";\"Número-índice\";\"3126,2900000000000\";\"Número-índice\";\"3149,7400000000000\";\"Número-índice\";\"3175,8800000000000\";\"Número-índice\";\"3195,8900000000000\";\"Número-índice\";\"3222,4200000000000\";\"Número-índice\";\"3248,2000000000000\";\"Número-índice\";\"3273,8600000000000\";\"Número-índice\";\"3299,0700000000000\";\"Número-índice\";\"3314,5800000000000\";\"Número-índice\";\"3319,5500000000000\";\"Número-índice\";\"3324,8600000000000\";\"Número-índice\";\"3337,1600000000000\";\"Número-índice\";\"3354,8500000000000\";\"Número-índice\";\"3369,2800000000000\";\"Número-índice\";\"3386,8000000000000\";\"Número-índice\";\"3403,7300000000000\";\"Número-índice\";\"3422,7900000000000\";\"Número-índice\";\"3438,1900000000000\";\"Número-índice\";\"3445,4100000000000\";\"Número-índice\";\"3467,4600000000000\";\"Número-índice\";\"3479,9400000000000\";\"Número-índice\";\"3482,7200000000000\";\"Número-índice\";\"3497,7000000000000\";\"Número-índice\";\"3512,0400000000000\";\"Número-índice\";\"3532,0600000000000\";\"Número-índice\";\"3552,9000000000000\";\"Número-índice\";\"3574,2200000000000\";\"Número-índice\";\"3602,4600000000000\";\"Número-índice\";\"3633,4400000000000\";\"Número-índice\";\"3655,2400000000000\";\"Número-índice\";\"3672,4200000000000\";\"Número-índice\";\"3692,6200000000000\";\"Número-índice\";\"3706,2800000000000\";\"Número-índice\";\"3715,9200000000000\";\"Número-índice\";\"3717,0300000000000\";\"Número-índice\";\"3725,9500000000000\";\"Número-índice\";\"3738,9900000000000\";\"Número-índice\";\"3760,3000000000000\";\"Número-índice\";\"3780,6100000000000\";\"Número-índice\";\"3815,3900000000000\";\"Número-índice\";\"3836,3700000000000\";\"Número-índice\";\"3862,8400000000000\";\"Número-índice\";\"3898,3800000000000\";\"Número-índice\";\"3924,5000000000000\";\"Número-índice\";\"3942,5500000000000\";\"Número-índice\";\"3958,3200000000000\";\"Número-índice\";\"3958,7200000000000\";\"Número-índice\";\"3968,6200000000000\";\"Número-índice\";\"3991,2400000000000\";\"Número-índice\";\"4008,0000000000000\";\"Número-índice\";\"4028,4400000000000\";\"Número-índice\";\"4059,8600000000000\";\"Número-índice\";\"4110,2000000000000\";\"Número-índice\";\"4160,3400000000000\";\"Número-índice\";\"4215,2600000000000\";\"Número-índice\";\"4245,1900000000000\";\"Número-índice\";\"4276,6000000000000\";\"Número-índice\";\"4310,3900000000000\";\"Número-índice\";\"4337,1100000000000\";\"Número-índice\";\"4346,6500000000000\";\"Número-índice\";\"4370,1200000000000\";\"Número-índice\";\"4405,9500000000000\";\"Número-índice\";\"4450,4500000000000\";\"Número-índice\";\"4493,1700000000000\";\"Número-índice\";\"4550,2300000000000\";\"Número-índice\";\"4591,1800000000000\";\"Número-índice\";\"4610,9200000000000\";\"Número-índice\";\"4639,0500000000000\";\"Número-índice\";\"4675,2300000000000\";\"Número-índice\";\"4691,5900000000000\";\"Número-índice\";\"4715,9900000000000\";\"Número-índice\";\"4736,7400000000000\";\"Número-índice\";\"4740,5300000000000\";\"Número-índice\";\"4752,8600000000000\";\"Número-índice\";\"4761,4200000000000\";\"Número-índice\";\"4775,7000000000000\";\"Número-índice\";\"4793,8500000000000\";\"Número-índice\";\"4809,6700000000000\";\"Número-índice\";\"4821,6900000000000\";\"Número-índice\";\"4828,4400000000000\";\"Número-índice\";\"4843,4100000000000\";\"Número-índice\";\"4832,2700000000000\";\"Número-índice\";\"4843,8700000000000\";\"Número-índice\";\"4853,0700000000000\";\"Número-índice\";\"4860,8300000000000\";\"Número-índice\";\"4881,2500000000000\";\"Número-índice\";\"4894,9200000000000\";\"Número-índice\";\"4916,4600000000000\";\"Número-índice\";\"4930,7200000000000\";\"Número-índice\";\"4946,5000000000000\";\"Número-índice\";\"4950,9500000000000\";\"Número-índice\";\"4961,8400000000000\";\"Número-índice\";\"4981,6900000000000\";\"Número-índice\";\"5044,4600000000000\";\"Número-índice\";\"5061,1100000000000\";\"Número-índice\";\"5056,5600000000000\";\"Número-índice\";\"5080,8300000000000\";\"Número-índice\";\"5103,6900000000000\";\"Número-índice\";\"5092,9700000000000\";\"Número-índice\";\"5100,6100000000000\";\"Número-índice\";\"5116,9300000000000\";\"Número-índice\";\"5138,9300000000000\";\"Número-índice\";\"5177,4700000000000\";\"Número-índice\";\"5206,9800000000000\";\"Número-índice\";\"5213,7500000000000\";\"Número-índice\";\"5214,2700000000000\";\"Número-índice\";\"5224,1800000000000\";\"Número-índice\";\"5229,9300000000000\";\"Número-índice\";\"5227,8400000000000\";\"Número-índice\";\"5233,0700000000000\";\"Número-índice\";\"5259,7600000000000\";\"Número-índice\";\"5320,2500000000000\";\"Número-índice\";\"5331,4200000000000\";\"Número-índice\";\"5344,7500000000000\";\"Número-índice\";\"5348,4900000000000\";\"Número-índice\";\"5331,9100000000000\";\"Número-índice\";\"5311,6500000000000\";\"Número-índice\";\"5325,4600000000000\";\"Número-índice\";\"5344,6300000000000\";\"Número-índice\";\"5357,4600000000000\";\"Número-índice\";\"5391,7500000000000\";\"Número-índice\";\"5438,1200000000000\";\"Número-índice\";\"5486,5200000000000\";\"Número-índice\";\"5560,5900000000000\";\"Número-índice\";\"5574,4900000000000\";\"Número-índice\";\"5622,4300000000000\";\"Número-índice\";\"5674,7200000000000\";\"Número-índice\";\"5692,3100000000000\";\"Número-índice\";\"5739,5600000000000\";\"Número-índice\";\"5769,9800000000000\";\"Número-índice\";\"5825,3700000000000\";\"Número-índice\";\"5876,0500000000000\";\"Número-índice\";\"5944,2100000000000\";\"Número-índice\";\"6018,5100000000000\";\"Número-índice\";\"6075,6900000000000\";\"Número-índice\";\"6120,0400000000000\";\"Número-índice\";\"6153,0900000000000\";\"Número-índice\";\"6215,2400000000000\";\"Número-índice\";\"6315,9300000000000\";\"Número-índice\";\"6382,8800000000000\";\"Número-índice\";\"6412,8800000000000\";\"Número-índice\";\"6455,8500000000000\";\"Número-índice\";\"6411,9500000000000\";\"Número-índice\";\"6388,8700000000000\";\"Número-índice\";\"6370,3400000000000\";\"Número-índice\";\"6407,9300000000000\";\"Número-índice\";\"6434,2000000000000\";\"Número-índice\";\"6474,0900000000000\";\"Número-índice\";\"6508,4000000000000\";\"Número-índice\";\"6563,0700000000000\";\"Número-índice\";\"6609,6700000000000\";\"Número-índice\"\\r\\n\"Fonte: IBGE - Índice Nacional de Preços ao Consumidor Amplo\"\\r\\n\\r\\n\"Notas\"\\r\\n\"1 - Período de coleta ajustado ao mês civil (do primeiro ao trigésimo dia de cada mês), para os meses anteriores a março de 1986.\"\\r\\n\"\"\\r\\n\"Legenda\"\\r\\n\"Símbolo\";\"Significado\"\\r\\n\"-\";\"Zero absoluto, não resultante de um cálculo ou arredondamento.\\nEx: Em determinado município não existem pessoas de 14 anos de idade sem instrução.\"\\r\\n\"0\";\"Zero resultante de um cálculo ou arredondamento.\\nEx: A inflação do feijão em determinada Região Metropolitana foi 0.\\nDeterminado município produziu 400 kg de sementes de girassol e os dados da tabela são expressos em toneladas.\"\\r\\n\"X\";\"Valor inibido para não identificar o informante.\\nEx: Determinado município só possui uma empresa produtora de cimento, logo o valor de sua produção deve ser inibido.\"\\r\\n\"..\";\"Valor não se aplica.\\nEx: Não se pode obter o total da produção agrícola em determinado município quando os produtos agrícolas são contabilizados com unidades de medida distintas.\"\\r\\n\"...\";\"Valor não disponível.\\nEx: A produção de feijão em determinado município não foi pesquisada ou determinado município não existia no ano da pesquisa.\"\\r\\n\"A a Z\\n(exceto X)\";\"Significa uma faixa de valores. Varia em função da tabela (se for o caso).\\nEx: O nível de precisão da produção estimada de combustíveis está na faixa A (95 a 100%)\"\\r\\n'"
      ]
     },
     "execution_count": 3,
     "metadata": {},
     "output_type": "execute_result"
    }
   ],
   "source": [
    "soup = BS(answer.content, 'html.parser')\n",
    "soup = soup.text\n",
    "soup"
   ]
  },
  {
   "cell_type": "code",
   "execution_count": 4,
   "id": "d363b7d0-0150-403b-8b50-548fc7276a0a",
   "metadata": {
    "scrolled": true,
    "tags": []
   },
   "outputs": [
    {
     "data": {
      "text/html": [
       "<div>\n",
       "<style scoped>\n",
       "    .dataframe tbody tr th:only-of-type {\n",
       "        vertical-align: middle;\n",
       "    }\n",
       "\n",
       "    .dataframe tbody tr th {\n",
       "        vertical-align: top;\n",
       "    }\n",
       "\n",
       "    .dataframe thead th {\n",
       "        text-align: right;\n",
       "    }\n",
       "</style>\n",
       "<table border=\"1\" class=\"dataframe\">\n",
       "  <thead>\n",
       "    <tr style=\"text-align: right;\">\n",
       "      <th></th>\n",
       "      <th>0</th>\n",
       "    </tr>\n",
       "  </thead>\n",
       "  <tbody>\n",
       "    <tr>\n",
       "      <th>6</th>\n",
       "      <td>\"dezembro 1979\"</td>\n",
       "    </tr>\n",
       "    <tr>\n",
       "      <th>7</th>\n",
       "      <td></td>\n",
       "    </tr>\n",
       "    <tr>\n",
       "      <th>8</th>\n",
       "      <td>\"janeiro 1980\"</td>\n",
       "    </tr>\n",
       "    <tr>\n",
       "      <th>9</th>\n",
       "      <td></td>\n",
       "    </tr>\n",
       "    <tr>\n",
       "      <th>10</th>\n",
       "      <td>\"fevereiro 1980\"</td>\n",
       "    </tr>\n",
       "    <tr>\n",
       "      <th>...</th>\n",
       "      <td>...</td>\n",
       "    </tr>\n",
       "    <tr>\n",
       "      <th>2081</th>\n",
       "      <td>\"6508,4000000000000\"</td>\n",
       "    </tr>\n",
       "    <tr>\n",
       "      <th>2082</th>\n",
       "      <td>\"Número-índice\"</td>\n",
       "    </tr>\n",
       "    <tr>\n",
       "      <th>2083</th>\n",
       "      <td>\"6563,0700000000000\"</td>\n",
       "    </tr>\n",
       "    <tr>\n",
       "      <th>2084</th>\n",
       "      <td>\"Número-índice\"</td>\n",
       "    </tr>\n",
       "    <tr>\n",
       "      <th>2085</th>\n",
       "      <td>\"6609,6700000000000\"</td>\n",
       "    </tr>\n",
       "  </tbody>\n",
       "</table>\n",
       "<p>2080 rows × 1 columns</p>\n",
       "</div>"
      ],
      "text/plain": [
       "                         0\n",
       "6          \"dezembro 1979\"\n",
       "7                         \n",
       "8           \"janeiro 1980\"\n",
       "9                         \n",
       "10        \"fevereiro 1980\"\n",
       "...                    ...\n",
       "2081  \"6508,4000000000000\"\n",
       "2082       \"Número-índice\"\n",
       "2083  \"6563,0700000000000\"\n",
       "2084       \"Número-índice\"\n",
       "2085  \"6609,6700000000000\"\n",
       "\n",
       "[2080 rows x 1 columns]"
      ]
     },
     "execution_count": 4,
     "metadata": {},
     "output_type": "execute_result"
    }
   ],
   "source": [
    "pd.DataFrame(soup.split(';'))[6:-8]"
   ]
  },
  {
   "cell_type": "code",
   "execution_count": 5,
   "id": "404d1a76-fdfc-4775-a96f-cd77f9ab5144",
   "metadata": {
    "scrolled": true,
    "tags": []
   },
   "outputs": [],
   "source": [
    "# help(BS)\n",
    "# help(yfinance)"
   ]
  },
  {
   "cell_type": "markdown",
   "id": "7484e485-a8e0-4d00-890e-c69d026a55c3",
   "metadata": {
    "tags": []
   },
   "source": [
    "### 1.2.2. Loading stocks dataset"
   ]
  },
  {
   "cell_type": "code",
   "execution_count": 6,
   "id": "6f942b94-7f3a-4872-a7ef-b5e386cd969e",
   "metadata": {},
   "outputs": [
    {
     "name": "stdout",
     "output_type": "stream",
     "text": [
      "Time loading stocks dataset: 0.8619523048400879\n"
     ]
    },
    {
     "data": {
      "text/html": [
       "<div>\n",
       "<style scoped>\n",
       "    .dataframe tbody tr th:only-of-type {\n",
       "        vertical-align: middle;\n",
       "    }\n",
       "\n",
       "    .dataframe tbody tr th {\n",
       "        vertical-align: top;\n",
       "    }\n",
       "\n",
       "    .dataframe thead th {\n",
       "        text-align: right;\n",
       "    }\n",
       "</style>\n",
       "<table border=\"1\" class=\"dataframe\">\n",
       "  <thead>\n",
       "    <tr style=\"text-align: right;\">\n",
       "      <th></th>\n",
       "      <th>Open</th>\n",
       "      <th>High</th>\n",
       "      <th>Low</th>\n",
       "      <th>Close</th>\n",
       "      <th>Volume</th>\n",
       "      <th>Dividends</th>\n",
       "      <th>Stock Splits</th>\n",
       "    </tr>\n",
       "    <tr>\n",
       "      <th>Date</th>\n",
       "      <th></th>\n",
       "      <th></th>\n",
       "      <th></th>\n",
       "      <th></th>\n",
       "      <th></th>\n",
       "      <th></th>\n",
       "      <th></th>\n",
       "    </tr>\n",
       "  </thead>\n",
       "  <tbody>\n",
       "    <tr>\n",
       "      <th>2018-04-30 00:00:00-03:00</th>\n",
       "      <td>8.322322</td>\n",
       "      <td>8.352673</td>\n",
       "      <td>8.213057</td>\n",
       "      <td>8.261619</td>\n",
       "      <td>14354109</td>\n",
       "      <td>0.0</td>\n",
       "      <td>0.0</td>\n",
       "    </tr>\n",
       "    <tr>\n",
       "      <th>2018-05-02 00:00:00-03:00</th>\n",
       "      <td>8.206990</td>\n",
       "      <td>8.206990</td>\n",
       "      <td>7.739581</td>\n",
       "      <td>7.769931</td>\n",
       "      <td>50261107</td>\n",
       "      <td>0.0</td>\n",
       "      <td>0.0</td>\n",
       "    </tr>\n",
       "    <tr>\n",
       "      <th>2018-05-03 00:00:00-03:00</th>\n",
       "      <td>7.800282</td>\n",
       "      <td>7.854914</td>\n",
       "      <td>7.545331</td>\n",
       "      <td>7.557471</td>\n",
       "      <td>46139605</td>\n",
       "      <td>0.0</td>\n",
       "      <td>0.0</td>\n",
       "    </tr>\n",
       "    <tr>\n",
       "      <th>2018-05-04 00:00:00-03:00</th>\n",
       "      <td>7.551402</td>\n",
       "      <td>7.587824</td>\n",
       "      <td>7.436068</td>\n",
       "      <td>7.436068</td>\n",
       "      <td>28024816</td>\n",
       "      <td>0.0</td>\n",
       "      <td>0.0</td>\n",
       "    </tr>\n",
       "    <tr>\n",
       "      <th>2018-05-07 00:00:00-03:00</th>\n",
       "      <td>7.472488</td>\n",
       "      <td>7.502839</td>\n",
       "      <td>7.411785</td>\n",
       "      <td>7.448207</td>\n",
       "      <td>17477633</td>\n",
       "      <td>0.0</td>\n",
       "      <td>0.0</td>\n",
       "    </tr>\n",
       "    <tr>\n",
       "      <th>...</th>\n",
       "      <td>...</td>\n",
       "      <td>...</td>\n",
       "      <td>...</td>\n",
       "      <td>...</td>\n",
       "      <td>...</td>\n",
       "      <td>...</td>\n",
       "      <td>...</td>\n",
       "    </tr>\n",
       "    <tr>\n",
       "      <th>2023-04-24 00:00:00-03:00</th>\n",
       "      <td>8.510000</td>\n",
       "      <td>8.670000</td>\n",
       "      <td>8.480000</td>\n",
       "      <td>8.570000</td>\n",
       "      <td>25977100</td>\n",
       "      <td>0.0</td>\n",
       "      <td>0.0</td>\n",
       "    </tr>\n",
       "    <tr>\n",
       "      <th>2023-04-25 00:00:00-03:00</th>\n",
       "      <td>8.530000</td>\n",
       "      <td>8.600000</td>\n",
       "      <td>8.520000</td>\n",
       "      <td>8.590000</td>\n",
       "      <td>27183900</td>\n",
       "      <td>0.0</td>\n",
       "      <td>0.0</td>\n",
       "    </tr>\n",
       "    <tr>\n",
       "      <th>2023-04-26 00:00:00-03:00</th>\n",
       "      <td>8.600000</td>\n",
       "      <td>8.600000</td>\n",
       "      <td>8.450000</td>\n",
       "      <td>8.480000</td>\n",
       "      <td>25655800</td>\n",
       "      <td>0.0</td>\n",
       "      <td>0.0</td>\n",
       "    </tr>\n",
       "    <tr>\n",
       "      <th>2023-04-27 00:00:00-03:00</th>\n",
       "      <td>8.500000</td>\n",
       "      <td>8.590000</td>\n",
       "      <td>8.480000</td>\n",
       "      <td>8.590000</td>\n",
       "      <td>17660400</td>\n",
       "      <td>0.0</td>\n",
       "      <td>0.0</td>\n",
       "    </tr>\n",
       "    <tr>\n",
       "      <th>2023-04-28 00:00:00-03:00</th>\n",
       "      <td>8.630000</td>\n",
       "      <td>8.710000</td>\n",
       "      <td>8.510000</td>\n",
       "      <td>8.680000</td>\n",
       "      <td>28906000</td>\n",
       "      <td>0.0</td>\n",
       "      <td>0.0</td>\n",
       "    </tr>\n",
       "  </tbody>\n",
       "</table>\n",
       "<p>1239 rows × 7 columns</p>\n",
       "</div>"
      ],
      "text/plain": [
       "                               Open      High       Low     Close    Volume  \\\n",
       "Date                                                                          \n",
       "2018-04-30 00:00:00-03:00  8.322322  8.352673  8.213057  8.261619  14354109   \n",
       "2018-05-02 00:00:00-03:00  8.206990  8.206990  7.739581  7.769931  50261107   \n",
       "2018-05-03 00:00:00-03:00  7.800282  7.854914  7.545331  7.557471  46139605   \n",
       "2018-05-04 00:00:00-03:00  7.551402  7.587824  7.436068  7.436068  28024816   \n",
       "2018-05-07 00:00:00-03:00  7.472488  7.502839  7.411785  7.448207  17477633   \n",
       "...                             ...       ...       ...       ...       ...   \n",
       "2023-04-24 00:00:00-03:00  8.510000  8.670000  8.480000  8.570000  25977100   \n",
       "2023-04-25 00:00:00-03:00  8.530000  8.600000  8.520000  8.590000  27183900   \n",
       "2023-04-26 00:00:00-03:00  8.600000  8.600000  8.450000  8.480000  25655800   \n",
       "2023-04-27 00:00:00-03:00  8.500000  8.590000  8.480000  8.590000  17660400   \n",
       "2023-04-28 00:00:00-03:00  8.630000  8.710000  8.510000  8.680000  28906000   \n",
       "\n",
       "                           Dividends  Stock Splits  \n",
       "Date                                                \n",
       "2018-04-30 00:00:00-03:00        0.0           0.0  \n",
       "2018-05-02 00:00:00-03:00        0.0           0.0  \n",
       "2018-05-03 00:00:00-03:00        0.0           0.0  \n",
       "2018-05-04 00:00:00-03:00        0.0           0.0  \n",
       "2018-05-07 00:00:00-03:00        0.0           0.0  \n",
       "...                              ...           ...  \n",
       "2023-04-24 00:00:00-03:00        0.0           0.0  \n",
       "2023-04-25 00:00:00-03:00        0.0           0.0  \n",
       "2023-04-26 00:00:00-03:00        0.0           0.0  \n",
       "2023-04-27 00:00:00-03:00        0.0           0.0  \n",
       "2023-04-28 00:00:00-03:00        0.0           0.0  \n",
       "\n",
       "[1239 rows x 7 columns]"
      ]
     },
     "execution_count": 6,
     "metadata": {},
     "output_type": "execute_result"
    }
   ],
   "source": [
    "tic = time.time()\n",
    "\n",
    "# Defining the stock ticker (symbol)\n",
    "tickers = [\"ITSA4.SA\"]\n",
    "\n",
    "# obtaining the data\n",
    "stocks = {}\n",
    "for i in tickers:\n",
    "    stock = yf.Ticker(tickers[0])\n",
    "    stocks[i] = stock.history(period=\"5y\", interval=\"1d\")\n",
    "\n",
    "# # Print the stocks data\n",
    "# for i, data in stocks.items:\n",
    "#     print(f\"{i}\")\n",
    "#     print(data.tail())\n",
    "\n",
    "toc = time.time()\n",
    "time_loading02 = toc - tic\n",
    "print(f'Time loading stocks dataset: {time_loading02}')\n",
    "\n",
    "stocks['ITSA4.SA']"
   ]
  }
 ],
 "metadata": {
  "kernelspec": {
   "display_name": "Python 3 (ipykernel)",
   "language": "python",
   "name": "python3"
  },
  "language_info": {
   "codemirror_mode": {
    "name": "ipython",
    "version": 3
   },
   "file_extension": ".py",
   "mimetype": "text/x-python",
   "name": "python",
   "nbconvert_exporter": "python",
   "pygments_lexer": "ipython3",
   "version": "3.11.2"
  }
 },
 "nbformat": 4,
 "nbformat_minor": 5
}
