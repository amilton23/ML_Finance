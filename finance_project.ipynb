{
 "cells": [
  {
   "cell_type": "markdown",
   "id": "efae8188-3991-4237-87b4-3db9f4908f93",
   "metadata": {},
   "source": [
    "# Project Finance"
   ]
  },
  {
   "cell_type": "code",
   "execution_count": 1,
   "id": "9b33136d-5ff7-40c9-a212-16fbaa519bf2",
   "metadata": {},
   "outputs": [],
   "source": [
    "import pandas as pd\n",
    "import numpy as np\n",
    "import dash "
   ]
  },
  {
   "cell_type": "code",
   "execution_count": null,
   "id": "404d1a76-fdfc-4775-a96f-cd77f9ab5144",
   "metadata": {},
   "outputs": [],
   "source": []
  }
 ],
 "metadata": {
  "kernelspec": {
   "display_name": "Python 3 (ipykernel)",
   "language": "python",
   "name": "python3"
  },
  "language_info": {
   "codemirror_mode": {
    "name": "ipython",
    "version": 3
   },
   "file_extension": ".py",
   "mimetype": "text/x-python",
   "name": "python",
   "nbconvert_exporter": "python",
   "pygments_lexer": "ipython3",
   "version": "3.11.2"
  }
 },
 "nbformat": 4,
 "nbformat_minor": 5
}
